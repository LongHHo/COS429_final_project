{
 "cells": [
  {
   "cell_type": "code",
   "execution_count": 34,
   "metadata": {},
   "outputs": [],
   "source": [
    "from knn import kNN\n",
    "import numpy as np\n",
    "from tqdm import tqdm\n",
    "from load_mini_imagenet import load_mini_imagenet_data, split_for_n_shot"
   ]
  },
  {
   "cell_type": "code",
   "execution_count": 29,
   "metadata": {},
   "outputs": [],
   "source": [
    "X_test, y_test = load_mini_imagenet_data(\"mini-imagenet-cache-test.pkl\")"
   ]
  },
  {
   "cell_type": "code",
   "execution_count": 30,
   "metadata": {},
   "outputs": [],
   "source": [
    "X_support, y_support, X_test, y_test = split_for_n_shot(X_test, y_test, n=5)"
   ]
  },
  {
   "cell_type": "code",
   "execution_count": 31,
   "metadata": {},
   "outputs": [],
   "source": [
    "mean_image = np.mean(X_support, axis=0)\n",
    "stddev = np.std(X_support, axis=0)"
   ]
  },
  {
   "cell_type": "code",
   "execution_count": 32,
   "metadata": {},
   "outputs": [
    {
     "name": "stdout",
     "output_type": "stream",
     "text": [
      "(11900, 21168)\n",
      "(100, 21168)\n"
     ]
    }
   ],
   "source": [
    "# extract pixels as features\n",
    "test_features = ((X_test - mean_image)/stddev).reshape(X_test.shape[0], -1)\n",
    "support_features = ((X_support - mean_image)/stddev).reshape(X_support.shape[0], -1)\n",
    "print(test_features.shape)\n",
    "print(support_features.shape)"
   ]
  },
  {
   "cell_type": "code",
   "execution_count": 37,
   "metadata": {},
   "outputs": [
    {
     "name": "stderr",
     "output_type": "stream",
     "text": [
      "11900it [00:35, 335.44it/s]\n"
     ]
    }
   ],
   "source": [
    "correct = 0\n",
    "for feat, label in tqdm(zip(test_features, y_test)):\n",
    "    predicted = kNN(support_features, y_support, feat, k=1)\n",
    "    if predicted == label:\n",
    "        correct += 1"
   ]
  },
  {
   "cell_type": "code",
   "execution_count": null,
   "metadata": {},
   "outputs": [
    {
     "name": "stdout",
     "output_type": "stream",
     "text": [
      "0.09462184873949579\n"
     ]
    }
   ],
   "source": [
    "# k = 1, euclidean\n",
    "print(correct / len(test_features))"
   ]
  },
  {
   "cell_type": "code",
   "execution_count": 38,
   "metadata": {},
   "outputs": [
    {
     "name": "stdout",
     "output_type": "stream",
     "text": [
      "0.09327731092436975\n"
     ]
    }
   ],
   "source": [
    "# k = 1, euclidean, normalized\n",
    "print(correct / len(test_features))"
   ]
  },
  {
   "cell_type": "code",
   "execution_count": null,
   "metadata": {},
   "outputs": [
    {
     "name": "stdout",
     "output_type": "stream",
     "text": [
      "0.06495798319327731\n"
     ]
    }
   ],
   "source": [
    "# k = 3, euclidean\n",
    "print(correct / len(test_features))"
   ]
  },
  {
   "cell_type": "code",
   "execution_count": 36,
   "metadata": {},
   "outputs": [
    {
     "name": "stdout",
     "output_type": "stream",
     "text": [
      "0.0653781512605042\n"
     ]
    }
   ],
   "source": [
    "# k = 3, euclidean, normalized\n",
    "print(correct / len(test_features))"
   ]
  },
  {
   "cell_type": "code",
   "execution_count": null,
   "metadata": {},
   "outputs": [],
   "source": []
  }
 ],
 "metadata": {
  "kernelspec": {
   "display_name": "Python 3",
   "language": "python",
   "name": "python3"
  },
  "language_info": {
   "codemirror_mode": {
    "name": "ipython",
    "version": 3
   },
   "file_extension": ".py",
   "mimetype": "text/x-python",
   "name": "python",
   "nbconvert_exporter": "python",
   "pygments_lexer": "ipython3",
   "version": "3.7.11"
  }
 },
 "nbformat": 4,
 "nbformat_minor": 4
}

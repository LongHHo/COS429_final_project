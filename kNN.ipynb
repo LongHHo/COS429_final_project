{
 "cells": [
  {
   "cell_type": "code",
   "execution_count": 15,
   "metadata": {},
   "outputs": [],
   "source": [
    "from knn import kNN, convert_embeddings_to_tf\n",
    "import numpy as np\n",
    "from tqdm import tqdm\n",
    "from load_mini_imagenet import load_mini_imagenet_data, split_for_n_shot"
   ]
  },
  {
   "cell_type": "code",
   "execution_count": 2,
   "metadata": {},
   "outputs": [],
   "source": [
    "%load_ext autoreload\n",
    "%autoreload 2"
   ]
  },
  {
   "cell_type": "code",
   "execution_count": 3,
   "metadata": {},
   "outputs": [],
   "source": [
    "X_test, y_test = load_mini_imagenet_data(\"mini-imagenet-cache-test.pkl\")"
   ]
  },
  {
   "cell_type": "code",
   "execution_count": 4,
   "metadata": {},
   "outputs": [],
   "source": [
    "X_support, y_support, X_test, y_test = split_for_n_shot(X_test, y_test, n=5)"
   ]
  },
  {
   "cell_type": "code",
   "execution_count": 5,
   "metadata": {},
   "outputs": [],
   "source": [
    "mean = np.mean(X_support, axis=(0, 1, 2))\n",
    "stddev = np.std(X_support, axis=(0, 1, 2))"
   ]
  },
  {
   "cell_type": "code",
   "execution_count": 6,
   "metadata": {},
   "outputs": [],
   "source": [
    "X_support_norm = (X_support - mean) / stddev\n",
    "X_test_norm = (X_test - mean) / stddev"
   ]
  },
  {
   "cell_type": "code",
   "execution_count": 25,
   "metadata": {},
   "outputs": [
    {
     "name": "stdout",
     "output_type": "stream",
     "text": [
      "(11900, 21168)\n",
      "(100, 21168)\n"
     ]
    }
   ],
   "source": [
    "# extract pixels as features\n",
    "test_features = X_test.reshape(X_test.shape[0], -1)\n",
    "support_features = X_support.reshape(X_support.shape[0], -1)\n",
    "print(test_features.shape)\n",
    "print(support_features.shape)"
   ]
  },
  {
   "cell_type": "code",
   "execution_count": 8,
   "metadata": {},
   "outputs": [
    {
     "name": "stdout",
     "output_type": "stream",
     "text": [
      "(11900, 18432)\n",
      "(100, 18432)\n"
     ]
    }
   ],
   "source": [
    "# extract SIFT features\n",
    "from sift_extract import extract_sift_for_dataset\n",
    "\n",
    "test_features = extract_sift_for_dataset(X_test, step_size=7)\n",
    "support_features = extract_sift_for_dataset(X_support, step_size=7)\n",
    "print(test_features.shape)\n",
    "print(support_features.shape)"
   ]
  },
  {
   "cell_type": "code",
   "execution_count": 9,
   "metadata": {},
   "outputs": [
    {
     "name": "stderr",
     "output_type": "stream",
     "text": [
      "11900it [00:38, 310.58it/s]\n"
     ]
    }
   ],
   "source": [
    "correct = 0\n",
    "for feat, label in tqdm(zip(test_features, y_test)):\n",
    "    predicted = kNN(support_features, y_support, feat, k=3)\n",
    "    if predicted == label:\n",
    "        correct += 1"
   ]
  },
  {
   "cell_type": "code",
   "execution_count": 10,
   "metadata": {},
   "outputs": [
    {
     "name": "stdout",
     "output_type": "stream",
     "text": [
      "0.0726890756302521\n"
     ]
    }
   ],
   "source": [
    "# pixel, k = 1, euclidean\n",
    "print(correct / len(test_features))"
   ]
  },
  {
   "cell_type": "code",
   "execution_count": 11,
   "metadata": {},
   "outputs": [
    {
     "name": "stdout",
     "output_type": "stream",
     "text": [
      "0.0726890756302521\n"
     ]
    }
   ],
   "source": [
    "# pixel, k = 3, euclidean\n",
    "print(correct / len(test_features))"
   ]
  },
  {
   "cell_type": "code",
   "execution_count": 12,
   "metadata": {},
   "outputs": [
    {
     "name": "stdout",
     "output_type": "stream",
     "text": [
      "0.0726890756302521\n"
     ]
    }
   ],
   "source": [
    "# SIFT, k = 1, euclidean\n",
    "print(correct / len(test_features))"
   ]
  },
  {
   "cell_type": "code",
   "execution_count": 13,
   "metadata": {},
   "outputs": [
    {
     "name": "stdout",
     "output_type": "stream",
     "text": [
      "0.0726890756302521\n"
     ]
    }
   ],
   "source": [
    "# SIFT, k = 3, euclidean\n",
    "print(correct / len(test_features))"
   ]
  },
  {
   "cell_type": "code",
   "execution_count": 26,
   "metadata": {},
   "outputs": [],
   "source": [
    "convert_embeddings_to_tf(support_features, y_support, log_dir=\"logs/pixels/\")"
   ]
  }
 ],
 "metadata": {
  "kernelspec": {
   "display_name": "Python 3",
   "language": "python",
   "name": "python3"
  },
  "language_info": {
   "codemirror_mode": {
    "name": "ipython",
    "version": 3
   },
   "file_extension": ".py",
   "mimetype": "text/x-python",
   "name": "python",
   "nbconvert_exporter": "python",
   "pygments_lexer": "ipython3",
   "version": "3.7.11"
  }
 },
 "nbformat": 4,
 "nbformat_minor": 4
}

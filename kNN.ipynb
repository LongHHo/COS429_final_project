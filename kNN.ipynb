{
 "cells": [
  {
   "cell_type": "code",
   "execution_count": 3,
   "metadata": {},
   "outputs": [],
   "source": [
    "from knn import kNN\n",
    "from load_mini_imagenet import load_mini_imagenet_data, split_for_n_shot"
   ]
  },
  {
   "cell_type": "code",
   "execution_count": 4,
   "metadata": {},
   "outputs": [],
   "source": [
    "X_test, y_test = load_mini_imagenet_data(\"mini-imagenet-cache-test.pkl\")"
   ]
  },
  {
   "cell_type": "code",
   "execution_count": 5,
   "metadata": {},
   "outputs": [],
   "source": [
    "X_support, y_support, X_test, y_test = split_for_n_shot(X_test, y_test, n=5)"
   ]
  },
  {
   "cell_type": "code",
   "execution_count": 6,
   "metadata": {},
   "outputs": [
    {
     "name": "stdout",
     "output_type": "stream",
     "text": [
      "(11900, 21168)\n",
      "(100, 21168)\n"
     ]
    }
   ],
   "source": [
    "# extract pixels as features\n",
    "test_features = X_test.reshape(X_test.shape[0], -1)\n",
    "support_features = X_support.reshape(X_support.shape[0], -1)\n",
    "print(test_features.shape)\n",
    "print(support_features.shape)"
   ]
  },
  {
   "cell_type": "code",
   "execution_count": 11,
   "metadata": {},
   "outputs": [
    {
     "name": "stderr",
     "output_type": "stream",
     "text": [
      "11900it [01:07, 175.30it/s]\n"
     ]
    }
   ],
   "source": [
    "correct = 0\n",
    "for feat, label in tqdm(zip(test_features, y_test)):\n",
    "    predicted = kNN(support_features, y_support, feat, k=3)\n",
    "    if predicted == label:\n",
    "        correct += 1"
   ]
  },
  {
   "cell_type": "code",
   "execution_count": 10,
   "metadata": {},
   "outputs": [
    {
     "name": "stdout",
     "output_type": "stream",
     "text": [
      "0.09462184873949579\n"
     ]
    }
   ],
   "source": [
    "# k = 1, euclidean\n",
    "print(correct / len(test_features))"
   ]
  },
  {
   "cell_type": "code",
   "execution_count": 12,
   "metadata": {},
   "outputs": [
    {
     "name": "stdout",
     "output_type": "stream",
     "text": [
      "0.06495798319327731\n"
     ]
    }
   ],
   "source": [
    "# k = 3, euclidean\n",
    "print(correct / len(test_features))"
   ]
  },
  {
   "cell_type": "code",
   "execution_count": null,
   "metadata": {},
   "outputs": [],
   "source": []
  }
 ],
 "metadata": {
  "kernelspec": {
   "display_name": "Python 3",
   "language": "python",
   "name": "python3"
  },
  "language_info": {
   "codemirror_mode": {
    "name": "ipython",
    "version": 3
   },
   "file_extension": ".py",
   "mimetype": "text/x-python",
   "name": "python",
   "nbconvert_exporter": "python",
   "pygments_lexer": "ipython3",
   "version": "3.7.11"
  }
 },
 "nbformat": 4,
 "nbformat_minor": 4
}

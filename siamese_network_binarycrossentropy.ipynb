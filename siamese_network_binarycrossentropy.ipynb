{
  "cells": [
    {
      "cell_type": "code",
      "execution_count": null,
      "metadata": {
        "colab": {
          "base_uri": "https://localhost:8080/"
        },
        "id": "nz3S_fIfcNG1",
        "outputId": "1ca2da3b-9085-48ce-eadf-6eb0891485f3"
      },
      "outputs": [
        {
          "name": "stdout",
          "output_type": "stream",
          "text": [
            "Found GPU at: /device:GPU:0\n"
          ]
        }
      ],
      "source": [
        "%tensorflow_version 2.x\n",
        "import tensorflow as tf\n",
        "device_name = tf.test.gpu_device_name()\n",
        "if device_name != '/device:GPU:0':\n",
        "  raise SystemError('GPU device not found')\n",
        "print('Found GPU at: {}'.format(device_name))"
      ]
    },
    {
      "cell_type": "code",
      "execution_count": null,
      "metadata": {
        "id": "bd9jL6qBcr5F"
      },
      "outputs": [],
      "source": [
        "import sys\n",
        "import numpy as np\n",
        "import pandas as pd\n",
        "# from scipy.misc import imread\n",
        "import pickle\n",
        "import os\n",
        "import matplotlib.pyplot as plt\n",
        "%matplotlib inline\n",
        "\n",
        "import cv2\n",
        "import time\n",
        "\n",
        "import tensorflow as tf\n",
        "from tensorflow.keras.models import Sequential\n",
        "from tensorflow.keras.optimizers import Adam\n",
        "from keras.layers import Conv2D, ZeroPadding2D, Activation, Input, concatenate\n",
        "from keras.models import Model\n",
        "\n",
        "from tensorflow.keras.layers import BatchNormalization, Layer\n",
        "from keras.layers.pooling import MaxPooling2D\n",
        "from keras.layers.merge import Concatenate\n",
        "from keras.layers.core import Lambda, Flatten, Dense\n",
        "from keras.initializers import glorot_uniform\n",
        "\n",
        "\n",
        "from keras.regularizers import l2\n",
        "from keras import backend as K\n",
        "\n",
        "from sklearn.utils import shuffle\n",
        "\n",
        "from siamese import make_oneshot_task, test_oneshot\n",
        "\n",
        "import numpy.random as rng\n",
        "import pickle"
      ]
    },
    {
      "cell_type": "code",
      "execution_count": null,
      "metadata": {
        "id": "LGNubjs7r_c9"
      },
      "outputs": [],
      "source": [
        "def get_pairwise_batch(batch_size, train_data):\n",
        "    \"\"\"\n",
        "    Create batch of n pairs, half same class, half different class\n",
        "    \"\"\"\n",
        "    n_classes, n_examples, w, h, d = train_data.shape\n",
        "    \n",
        "\n",
        "    rng = np.random.default_rng()\n",
        "\n",
        "    # randomly sample several classes to use in the batch\n",
        "    categories = rng.choice(n_classes,size=(batch_size,))\n",
        "    \n",
        "    # initialize 2 empty arrays for the input image batch\n",
        "    pairs=[np.zeros((batch_size, w, h, d)) for i in range(2)]\n",
        "    \n",
        "    # initialize vector for the targets\n",
        "    targets=np.zeros((batch_size,))\n",
        "    \n",
        "    # make one half of it '1's, so 2nd half of batch has same class\n",
        "    targets[batch_size//2:] = 1\n",
        "    for i in range(batch_size):\n",
        "        category = categories[i]\n",
        "        idx_1 = np.random.randint(0, n_examples)\n",
        "        pairs[0][i,:,:,:] = train_data[category, idx_1].reshape(w, h, d)\n",
        "        idx_2 = np.random.randint(0, n_examples)\n",
        "        \n",
        "        # pick images of same class for 1st half, different for 2nd\n",
        "        if i >= batch_size // 2:\n",
        "            category_2 = category  \n",
        "        else: \n",
        "            # add a random number to the category modulo n classes to ensure 2nd image has a different category\n",
        "            category_2 = (category + np.random.randint(1,n_classes)) % n_classes\n",
        "        \n",
        "        pairs[1][i,:,:,:] = train_data[category_2,idx_2].reshape(w, h, d)\n",
        "    \n",
        "    return pairs, targets\n"
      ]
    },
    {
      "cell_type": "code",
      "execution_count": null,
      "metadata": {
        "id": "cDPbP2E1qA_o"
      },
      "outputs": [],
      "source": [
        "train_in = open(\"mini-imagenet-cache-train.pkl\", \"rb\")\n",
        "train = pickle.load(train_in)\n",
        "ungrouped_Xtrain = train[\"image_data\"]\n",
        "val_in = open(\"mini-imagenet-cache-val.pkl\", \"rb\")\n",
        "val = pickle.load(val_in)\n",
        "ungrouped_Xval = val[\"image_data\"]\n",
        "val_data = ungrouped_Xval.reshape([16, 600, 84, 84, 3])"
      ]
    },
    {
      "cell_type": "code",
      "execution_count": null,
      "metadata": {
        "id": "ppRceFtV-LN1"
      },
      "outputs": [],
      "source": [
        "train_mean = ungrouped_Xtrain.mean(axis=(0,1,2)) \n",
        "train_std = ungrouped_Xtrain.std(axis=(0,1,2))"
      ]
    },
    {
      "cell_type": "code",
      "execution_count": null,
      "metadata": {
        "id": "lBf7v1K-Doxt"
      },
      "outputs": [],
      "source": [
        "ungrouped_Xtrain = ungrouped_Xtrain.astype('float32')\n",
        "ungrouped_Xval = ungrouped_Xval.astype('float32')"
      ]
    },
    {
      "cell_type": "code",
      "execution_count": null,
      "metadata": {
        "id": "K7T2Qtr6CWjk"
      },
      "outputs": [],
      "source": [
        "\n",
        "ungrouped_Xtrain[..., 0] -= train_mean[0]\n",
        "ungrouped_Xtrain[..., 1] -= train_mean[1]\n",
        "ungrouped_Xtrain[..., 2] -= train_mean[2]\n",
        "ungrouped_Xtrain[..., 0] /= train_std[0]\n",
        "ungrouped_Xtrain[..., 1] /= train_std[1]\n",
        "ungrouped_Xtrain[..., 2] /= train_std[2]\n",
        "\n",
        "\n",
        "ungrouped_Xval[..., 0] -= train_mean[0]\n",
        "ungrouped_Xval[..., 1] -= train_mean[1]\n",
        "ungrouped_Xval[..., 2] -= train_mean[2]\n",
        "ungrouped_Xval[..., 0] /= train_std[0]\n",
        "ungrouped_Xval[..., 1] /= train_std[1]\n",
        "ungrouped_Xval[..., 2] /= train_std[2]\n",
        "\n"
      ]
    },
    {
      "cell_type": "code",
      "execution_count": null,
      "metadata": {
        "id": "8lYiT3ryC_pe"
      },
      "outputs": [],
      "source": [
        "train_data = ungrouped_Xtrain.reshape([64, 600, 84, 84, 3])\n",
        "val_data = ungrouped_Xval.reshape([16, 600, 84, 84, 3])"
      ]
    },
    {
      "cell_type": "markdown",
      "metadata": {
        "id": "z7CU3S4SavhI"
      },
      "source": [
        "### Loading the validation images into tensors"
      ]
    },
    {
      "cell_type": "markdown",
      "metadata": {
        "id": "vBoErHFRavhJ"
      },
      "source": [
        "### Saving the validation tensors on disk"
      ]
    },
    {
      "cell_type": "code",
      "execution_count": null,
      "metadata": {
        "id": "Gx3KvkC5avhK"
      },
      "outputs": [],
      "source": [
        "def initialize_weights(shape, name=None, dtype=None):\n",
        "    \"\"\"\n",
        "        The paper, http://www.cs.utoronto.ca/~gkoch/files/msc-thesis.pdf\n",
        "        suggests to initialize CNN layer weights with mean as 0.0 and standard deviation of 0.01\n",
        "    \"\"\"\n",
        "    return np.random.normal(loc = 0.0, scale = 1e-2, size = shape)"
      ]
    },
    {
      "cell_type": "code",
      "execution_count": null,
      "metadata": {
        "id": "_aGrnxbsavhL"
      },
      "outputs": [],
      "source": [
        "def initialize_bias(shape, name=None, dtype=None):\n",
        "    \"\"\"\n",
        "        The paper, http://www.cs.utoronto.ca/~gkoch/files/msc-thesis.pdf\n",
        "        suggests to initialize CNN layer bias with mean as 0.5 and standard deviation of 0.01\n",
        "    \"\"\"\n",
        "    return np.random.normal(loc = 0.5, scale = 1e-2, size = shape)"
      ]
    },
    {
      "cell_type": "code",
      "execution_count": null,
      "metadata": {
        "id": "2jymdtycavhM"
      },
      "outputs": [],
      "source": [
        "def get_siamese_model(input_shape):\n",
        "    \"\"\"\n",
        "        Model architecture based on the one provided in: http://www.cs.utoronto.ca/~gkoch/files/msc-thesis.pdf\n",
        "    \"\"\"\n",
        "    \n",
        "    # Define the tensors for the two input images\n",
        "    left_input = Input(input_shape)\n",
        "    right_input = Input(input_shape)\n",
        "    \n",
        "    # Convolutional Neural Network\n",
        "    model = Sequential()\n",
        "    model.add(Conv2D(64, (10,10), activation='relu', input_shape=input_shape,\n",
        "                   kernel_initializer=initialize_weights, kernel_regularizer=l2(2e-4)))\n",
        "    model.add(MaxPooling2D())\n",
        "    model.add(Conv2D(128, (7,7), activation='relu',\n",
        "                     kernel_initializer=initialize_weights,\n",
        "                     bias_initializer=initialize_bias, kernel_regularizer=l2(2e-4)))\n",
        "    model.add(MaxPooling2D())\n",
        "    model.add(Conv2D(128, (4,4), activation='relu', kernel_initializer=initialize_weights,\n",
        "                     bias_initializer=initialize_bias, kernel_regularizer=l2(2e-4)))\n",
        "    model.add(MaxPooling2D())\n",
        "    model.add(Conv2D(256, (4,4), activation='relu', kernel_initializer=initialize_weights,\n",
        "                     bias_initializer=initialize_bias, kernel_regularizer=l2(2e-4)))\n",
        "    model.add(Flatten())\n",
        "    model.add(Dense(4096, activation='sigmoid',\n",
        "                   kernel_regularizer=l2(1e-3),\n",
        "                   kernel_initializer=initialize_weights,bias_initializer=initialize_bias))\n",
        "    \n",
        "    # Generate the encodings (feature vectors) for the two images\n",
        "    encoded_l = model(left_input)\n",
        "    encoded_r = model(right_input)\n",
        "    \n",
        "    # Add a customized layer to compute the absolute difference between the encodings\n",
        "    L1_layer = Lambda(lambda tensors:K.abs(tensors[0] - tensors[1]))\n",
        "    L1_distance = L1_layer([encoded_l, encoded_r])\n",
        "    \n",
        "    # Add a dense layer with a sigmoid unit to generate the similarity score\n",
        "    prediction = Dense(1,activation='sigmoid',bias_initializer=initialize_bias)(L1_distance)\n",
        "    \n",
        "    # Connect the inputs with the outputs\n",
        "    siamese_net = Model(inputs=[left_input,right_input],outputs=prediction)\n",
        "    \n",
        "    # return the model\n",
        "    return siamese_net"
      ]
    },
    {
      "cell_type": "code",
      "execution_count": null,
      "metadata": {
        "colab": {
          "base_uri": "https://localhost:8080/"
        },
        "id": "Sgy7gBz5avhM",
        "outputId": "0c41beeb-5cf3-4366-a46c-7a1a646862b6"
      },
      "outputs": [
        {
          "name": "stdout",
          "output_type": "stream",
          "text": [
            "Model: \"model\"\n",
            "__________________________________________________________________________________________________\n",
            " Layer (type)                   Output Shape         Param #     Connected to                     \n",
            "==================================================================================================\n",
            " input_1 (InputLayer)           [(None, 84, 84, 3)]  0           []                               \n",
            "                                                                                                  \n",
            " input_2 (InputLayer)           [(None, 84, 84, 3)]  0           []                               \n",
            "                                                                                                  \n",
            " sequential (Sequential)        (None, 4096)         10648896    ['input_1[0][0]',                \n",
            "                                                                  'input_2[0][0]']                \n",
            "                                                                                                  \n",
            " lambda (Lambda)                (None, 4096)         0           ['sequential[0][0]',             \n",
            "                                                                  'sequential[1][0]']             \n",
            "                                                                                                  \n",
            " dense_1 (Dense)                (None, 1)            4097        ['lambda[0][0]']                 \n",
            "                                                                                                  \n",
            "==================================================================================================\n",
            "Total params: 10,652,993\n",
            "Trainable params: 10,652,993\n",
            "Non-trainable params: 0\n",
            "__________________________________________________________________________________________________\n"
          ]
        }
      ],
      "source": [
        "model = get_siamese_model((84, 84, 3))\n",
        "model.summary()"
      ]
    },
    {
      "cell_type": "code",
      "execution_count": null,
      "metadata": {
        "id": "kvG0JWBEavhN"
      },
      "outputs": [],
      "source": [
        "optimizer = Adam(learning_rate = 0.00001)\n",
        "model.compile(loss=\"binary_crossentropy\",optimizer=optimizer)"
      ]
    },
    {
      "cell_type": "markdown",
      "metadata": {
        "id": "9XU5W5GYavhN"
      },
      "source": [
        "### Loading the train tensors"
      ]
    },
    {
      "cell_type": "code",
      "execution_count": null,
      "metadata": {
        "id": "0f9wiSOMavhO"
      },
      "outputs": [],
      "source": [
        "# Hyper parameters\n",
        "evaluate_every = 500 # interval for evaluating on one-shot tasks\\\n",
        "# download_every = 1000\n",
        "batch_size = 64\n",
        "n_iter = 10000 # No. of training iterations\n",
        "N_way = 10 # how many classes for testing one-shot tasks. has to be less than num classes in dataset\n",
        "n_val = 250 # how many one-shot tasks to validate on\n",
        "\n",
        "# used for straight validation testing\n",
        "val_batch_size = 64\n",
        "epochs= 10\n",
        "steps_per_epoch = 1000\n",
        "\n",
        "best = -1"
      ]
    },
    {
      "cell_type": "code",
      "execution_count": null,
      "metadata": {
        "id": "_Hpl4wTGiO9z"
      },
      "outputs": [],
      "source": [
        "def data_generator(data, batch_size):\n",
        "    while True:\n",
        "        (inputs,targets) = get_pairwise_batch(batch_size, train_data)\n",
        "        yield inputs, targets"
      ]
    },
    {
      "cell_type": "code",
      "execution_count": null,
      "metadata": {
        "id": "7kz63nFHiPcI"
      },
      "outputs": [],
      "source": [
        "def valid_data(data, batch_size):\n",
        "    (inputs,targets) = get_pairwise_batch(batch_size, train_data)\n",
        "    return inputs, targets"
      ]
    },
    {
      "cell_type": "code",
      "execution_count": null,
      "metadata": {
        "colab": {
          "base_uri": "https://localhost:8080/"
        },
        "id": "wMAilvf7iVof",
        "outputId": "5d89fd0e-4528-4304-fbf3-3fe058861c92"
      },
      "outputs": [
        {
          "name": "stdout",
          "output_type": "stream",
          "text": [
            "Epoch 1/10\n",
            "1000/1000 [==============================] - 177s 177ms/step - loss: 1.2244 - val_loss: 1.0191\n",
            "Epoch 2/10\n",
            "1000/1000 [==============================] - 177s 177ms/step - loss: 0.9055 - val_loss: 0.8378\n",
            "Epoch 3/10\n",
            "1000/1000 [==============================] - 177s 177ms/step - loss: 0.7921 - val_loss: 0.7639\n",
            "Epoch 4/10\n",
            "1000/1000 [==============================] - 177s 177ms/step - loss: 0.7443 - val_loss: 0.7254\n",
            "Epoch 5/10\n",
            "1000/1000 [==============================] - 177s 177ms/step - loss: 0.7239 - val_loss: 0.7123\n",
            "Epoch 6/10\n",
            "1000/1000 [==============================] - 177s 177ms/step - loss: 0.7106 - val_loss: 0.6931\n",
            "Epoch 7/10\n",
            "1000/1000 [==============================] - 177s 177ms/step - loss: 0.7020 - val_loss: 0.7131\n",
            "Epoch 8/10\n",
            "1000/1000 [==============================] - 177s 177ms/step - loss: 0.6963 - val_loss: 0.7001\n",
            "Epoch 9/10\n",
            "1000/1000 [==============================] - 177s 177ms/step - loss: 0.6916 - val_loss: 0.6922\n",
            "Epoch 10/10\n",
            "1000/1000 [==============================] - 177s 177ms/step - loss: 0.6891 - val_loss: 0.6755\n"
          ]
        }
      ],
      "source": [
        "history = model.fit(\n",
        "    data_generator(train_data, batch_size),\n",
        "    steps_per_epoch=steps_per_epoch,\n",
        "    validation_data = data_generator(val_data, val_batch_size),\n",
        "    validation_steps = 10,\n",
        "    epochs=epochs, verbose=True)"
      ]
    },
    {
      "cell_type": "code",
      "execution_count": null,
      "metadata": {
        "id": "jaE8Hv0cqPah"
      },
      "outputs": [],
      "source": [
        "model.save_weights(os.path.join('./weights/', 'weights_binarycrossentropy_loss_2.h5'))"
      ]
    },
    {
      "cell_type": "code",
      "execution_count": null,
      "metadata": {
        "id": "W-nqKS3IavhO"
      },
      "outputs": [],
      "source": [
        "model_path = './weights/'\n",
        "model_name = \"binarycrossentropy_loss_1\""
      ]
    }
  ],
  "metadata": {
    "accelerator": "GPU",
    "colab": {
      "name": "siamese_network_binarycrossentropy.ipynb",
      "provenance": []
    },
    "kernelspec": {
      "display_name": "Python 3",
      "language": "python",
      "name": "python3"
    },
    "language_info": {
      "codemirror_mode": {
        "name": "ipython",
        "version": 3
      },
      "file_extension": ".py",
      "mimetype": "text/x-python",
      "name": "python",
      "nbconvert_exporter": "python",
      "pygments_lexer": "ipython3",
      "version": "3.7.11"
    }
  },
  "nbformat": 4,
  "nbformat_minor": 0
}

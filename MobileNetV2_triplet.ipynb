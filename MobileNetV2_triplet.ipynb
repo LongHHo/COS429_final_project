{
  "nbformat": 4,
  "nbformat_minor": 0,
  "metadata": {
    "colab": {
      "name": "TMobileNetV2.ipynb",
      "provenance": [],
      "collapsed_sections": []
    },
    "kernelspec": {
      "name": "python3",
      "display_name": "Python 3"
    },
    "language_info": {
      "name": "python"
    },
    "accelerator": "GPU"
  },
  "cells": [
    {
      "cell_type": "code",
      "source": [
        "from google.colab import drive\n",
        "drive.mount('/content/drive')"
      ],
      "metadata": {
        "colab": {
          "base_uri": "https://localhost:8080/"
        },
        "id": "WDgWioWyKgRy",
        "outputId": "ef2e5fa0-afab-4779-97fa-7dfe28525903"
      },
      "execution_count": null,
      "outputs": [
        {
          "output_type": "stream",
          "name": "stdout",
          "text": [
            "Drive already mounted at /content/drive; to attempt to forcibly remount, call drive.mount(\"/content/drive\", force_remount=True).\n"
          ]
        }
      ]
    },
    {
      "cell_type": "code",
      "source": [
        "%cd drive/MyDrive/final_proj"
      ],
      "metadata": {
        "colab": {
          "base_uri": "https://localhost:8080/"
        },
        "id": "s7sqo7o1Kk2T",
        "outputId": "8fdc3fbb-f278-45b1-b29a-57af1744b45f"
      },
      "execution_count": null,
      "outputs": [
        {
          "output_type": "stream",
          "name": "stdout",
          "text": [
            "/content/drive/.shortcut-targets-by-id/1YMOPkl5pAMR5Y440QTaZiAbd1YXrDEUb/final_proj\n"
          ]
        }
      ]
    },
    {
      "cell_type": "code",
      "execution_count": null,
      "metadata": {
        "id": "hShJQFiKDrEZ",
        "colab": {
          "base_uri": "https://localhost:8080/"
        },
        "outputId": "f4eb7192-a538-4f68-f735-4f0e061b0ee7"
      },
      "outputs": [
        {
          "output_type": "stream",
          "name": "stdout",
          "text": [
            "Found GPU at: /device:GPU:0\n"
          ]
        }
      ],
      "source": [
        "%tensorflow_version 2.x\n",
        "import tensorflow as tf\n",
        "device_name = tf.test.gpu_device_name()\n",
        "if device_name != '/device:GPU:0':\n",
        "  raise SystemError('GPU device not found')\n",
        "print('Found GPU at: {}'.format(device_name))"
      ]
    },
    {
      "cell_type": "code",
      "source": [
        "import os\n",
        "import pickle\n",
        "import numpy as np\n",
        "import numpy.random as rng\n",
        "from tensorflow.keras import layers, models\n",
        "from keras import backend as K\n",
        "from keras.regularizers import l2\n",
        "from tensorflow.keras.optimizers import RMSprop\n",
        "from tensorflow.keras.models import Model"
      ],
      "metadata": {
        "id": "bcFh9QqPIeCw"
      },
      "execution_count": null,
      "outputs": []
    },
    {
      "cell_type": "code",
      "source": [
        "train_in = open(\"mini-imagenet-cache-train.pkl\", \"rb\")\n",
        "train = pickle.load(train_in)\n",
        "ungrouped_Xtrain = train[\"image_data\"]\n",
        "val_in = open(\"mini-imagenet-cache-val.pkl\", \"rb\")\n",
        "val = pickle.load(val_in)\n",
        "ungrouped_Xval = val[\"image_data\"]"
      ],
      "metadata": {
        "id": "hREn6mqJJwBp"
      },
      "execution_count": null,
      "outputs": []
    },
    {
      "cell_type": "code",
      "source": [
        "train_mean = ungrouped_Xtrain.mean(axis=(0,1,2)) \n",
        "train_std = ungrouped_Xtrain.std(axis=(0,1,2))\n",
        "\n",
        "ungrouped_Xtrain = ungrouped_Xtrain.astype('float32')\n",
        "ungrouped_Xval = ungrouped_Xval.astype('float32')"
      ],
      "metadata": {
        "id": "44rm3Y15KHv6"
      },
      "execution_count": null,
      "outputs": []
    },
    {
      "cell_type": "code",
      "source": [
        "ungrouped_Xtrain -= train_mean\n",
        "ungrouped_Xtrain /= train_std\n",
        "ungrouped_Xval -= train_mean\n",
        "ungrouped_Xval /= train_std"
      ],
      "metadata": {
        "id": "WyELYGaHL4-W"
      },
      "execution_count": null,
      "outputs": []
    },
    {
      "cell_type": "code",
      "source": [
        "train_data = ungrouped_Xtrain.reshape([64, 600, 84, 84, 3])\n",
        "val_data = ungrouped_Xval.reshape([16, 600, 84, 84, 3])\n",
        "train_data.shape"
      ],
      "metadata": {
        "colab": {
          "base_uri": "https://localhost:8080/"
        },
        "id": "yoJdNKVhKa43",
        "outputId": "45853cfe-b774-40e8-ac2d-31bb4256bbdc"
      },
      "execution_count": null,
      "outputs": [
        {
          "output_type": "execute_result",
          "data": {
            "text/plain": [
              "(64, 600, 84, 84, 3)"
            ]
          },
          "metadata": {},
          "execution_count": 8
        }
      ]
    },
    {
      "cell_type": "code",
      "source": [
        "# returns three lists: anchor, positive, negative\n",
        "def get_triple_batch(batch_size, train_data, input_shape):\n",
        "    \"\"\"\n",
        "    Create three lists of anchor images, positive images, negative images\n",
        "    \"\"\"\n",
        "    n_classes, n_examples, w, h, d = train_data.shape\n",
        "    new_w, new_h, new_d = input_shape\n",
        "    \n",
        "\n",
        "    rng = np.random.default_rng()\n",
        "\n",
        "    # randomly sample several classes to use in the batch\n",
        "    categories = rng.choice(n_classes,size=(batch_size,),replace=False)\n",
        "    \n",
        "    # initialize 2 empty arrays for the input image batch\n",
        "    anchor = np.zeros((batch_size, new_w, new_h, new_d))\n",
        "\n",
        "    positive = np.zeros((batch_size, new_w, new_h, new_d))\n",
        "\n",
        "    negative = np.zeros((batch_size, new_w, new_h, new_d))\n",
        "\n",
        "    \n",
        "    for i in range(batch_size):\n",
        "        category = categories[i]\n",
        "        idx_1 = np.random.randint(0, n_examples)\n",
        "        anchor[i,:,:,:] = tf.image.resize(train_data[category, idx_1].reshape(w, h, d), (224, 224)).numpy()\n",
        "        \n",
        "        idx_pos = np.random.randint(0, n_examples)\n",
        "        cat_pos = category\n",
        "        positive[i,:,:,:] = tf.image.resize(train_data[cat_pos,idx_pos].reshape(w, h, d), (224, 224)).numpy()\n",
        "\n",
        "        idx_neg = np.random.randint(0, n_examples)\n",
        "        cat_neg = (category + np.random.randint(1,n_classes)) % n_classes\n",
        "        negative[i,:,:,:] = tf.image.resize(train_data[cat_neg,idx_neg].reshape(w, h, d), (224, 224)).numpy()\n",
        "\n",
        "    return anchor, positive, negative\n",
        "\n",
        "\n",
        "def data_generator(data, batch_size, input_shape):\n",
        "    while True:\n",
        "        anchor_input, pos_input, neg_input = get_triple_batch(batch_size, data, input_shape)\n",
        "        y = np.ones((batch_size))\n",
        "        yield [pos_input,neg_input, anchor_input], y"
      ],
      "metadata": {
        "id": "HDtnhsB_QDSX"
      },
      "execution_count": null,
      "outputs": []
    },
    {
      "cell_type": "code",
      "source": [
        "def fn_loss(margin=1):\n",
        "    \"\"\"Provides 'triplet loss' an enclosing scope with variable 'margin'.\n",
        "\n",
        "  Arguments:\n",
        "      margin: Integer, defines the baseline for distance for which pairs\n",
        "              should be classified as dissimilar. - (default is 1).\n",
        "\n",
        "  Returns:\n",
        "      'triplet_loss' function with data ('margin') attached.\n",
        "  \"\"\"\n",
        "    # L(A, P, N) = max(‖f(A) - f(P)‖² - ‖f(A) - f(N)‖² + margin, 0)\n",
        "    def triplet_loss(y_true, y_pred):\n",
        "        anchor, positive, negative = y_pred[:,:emb_size], y_pred[:,emb_size:2*emb_size], y_pred[:,2*emb_size:]\n",
        "        positive_dist = tf.reduce_sum(tf.square(anchor - positive), axis=1)\n",
        "        negative_dist = tf.reduce_sum(tf.square(anchor - negative), axis=1)\n",
        "      \n",
        "        return tf.reduce_mean(tf.maximum(positive_dist - negative_dist + margin, 0.))\n",
        "    \n",
        "\n",
        "    return triplet_loss"
      ],
      "metadata": {
        "id": "sB1eFFhjJCo0"
      },
      "execution_count": null,
      "outputs": []
    },
    {
      "cell_type": "code",
      "source": [
        "def L2_Norm(vectors):\n",
        "    # unpack the vectors into separate lists\n",
        "    (featsA, featsB) = vectors\n",
        "    # compute the sum of squared distances between the vectors\n",
        "    sumSquared = K.sum(K.square(featsA - featsB), axis=1,\n",
        "      keepdims=True)\n",
        "    # return the euclidean distance between the vectors\n",
        "    return K.sqrt(K.maximum(sumSquared, K.epsilon()))"
      ],
      "metadata": {
        "id": "lHj_moaJLX02"
      },
      "execution_count": null,
      "outputs": []
    },
    {
      "cell_type": "code",
      "source": [
        "input_shape = (224, 224, 3)\n",
        "input_p = layers.Input(input_shape)\n",
        "input_a = layers.Input(input_shape)\n",
        "input_n = layers.Input(input_shape)\n",
        "\n",
        "model = tf.keras.applications.MobileNetV2(input_shape=input_shape,\n",
        "                                          include_top=False,\n",
        "                                          weights='imagenet')\n",
        "model.trainable = True\n",
        "\n",
        "encoded_p = model(input_p)\n",
        "encoded_p = layers.GlobalAveragePooling2D()(encoded_p)\n",
        "encoded_a = model(input_a)\n",
        "encoded_a = layers.GlobalAveragePooling2D()(encoded_a)\n",
        "encoded_n = model(input_n)\n",
        "encoded_n = layers.GlobalAveragePooling2D()(encoded_n)\n",
        "\n",
        "embedded_layers = tf.keras.layers.concatenate([encoded_a, encoded_p, encoded_n], axis=1)\n",
        "\n",
        "model = Model(inputs=[input_p, input_n, input_a],outputs=embedded_layers)"
      ],
      "metadata": {
        "id": "Bge3XG_OXOzz"
      },
      "execution_count": null,
      "outputs": []
    },
    {
      "cell_type": "code",
      "source": [
        "model.summary()"
      ],
      "metadata": {
        "colab": {
          "base_uri": "https://localhost:8080/"
        },
        "id": "FW7NZu1nXmN9",
        "outputId": "846e7298-4829-473d-da60-6264bb53bf6a"
      },
      "execution_count": null,
      "outputs": [
        {
          "output_type": "stream",
          "name": "stdout",
          "text": [
            "Model: \"model\"\n",
            "__________________________________________________________________________________________________\n",
            " Layer (type)                   Output Shape         Param #     Connected to                     \n",
            "==================================================================================================\n",
            " input_2 (InputLayer)           [(None, 224, 224, 3  0           []                               \n",
            "                                )]                                                                \n",
            "                                                                                                  \n",
            " input_1 (InputLayer)           [(None, 224, 224, 3  0           []                               \n",
            "                                )]                                                                \n",
            "                                                                                                  \n",
            " input_3 (InputLayer)           [(None, 224, 224, 3  0           []                               \n",
            "                                )]                                                                \n",
            "                                                                                                  \n",
            " mobilenetv2_1.00_224 (Function  (None, 7, 7, 1280)  2257984     ['input_1[0][0]',                \n",
            " al)                                                              'input_2[0][0]',                \n",
            "                                                                  'input_3[0][0]']                \n",
            "                                                                                                  \n",
            " global_average_pooling2d_1 (Gl  (None, 1280)        0           ['mobilenetv2_1.00_224[1][0]']   \n",
            " obalAveragePooling2D)                                                                            \n",
            "                                                                                                  \n",
            " global_average_pooling2d (Glob  (None, 1280)        0           ['mobilenetv2_1.00_224[0][0]']   \n",
            " alAveragePooling2D)                                                                              \n",
            "                                                                                                  \n",
            " global_average_pooling2d_2 (Gl  (None, 1280)        0           ['mobilenetv2_1.00_224[2][0]']   \n",
            " obalAveragePooling2D)                                                                            \n",
            "                                                                                                  \n",
            " concatenate (Concatenate)      (None, 3840)         0           ['global_average_pooling2d_1[0][0\n",
            "                                                                 ]',                              \n",
            "                                                                  'global_average_pooling2d[0][0]'\n",
            "                                                                 , 'global_average_pooling2d_2[0][\n",
            "                                                                 0]']                             \n",
            "                                                                                                  \n",
            "==================================================================================================\n",
            "Total params: 2,257,984\n",
            "Trainable params: 2,223,872\n",
            "Non-trainable params: 34,112\n",
            "__________________________________________________________________________________________________\n"
          ]
        }
      ]
    },
    {
      "cell_type": "code",
      "source": [
        "# Hyper params\n",
        "lr = tf.keras.optimizers.schedules.ExponentialDecay(\n",
        "    initial_learning_rate=1e-5,\n",
        "    decay_steps=1000,\n",
        "    decay_rate=0.98)\n",
        "momentum = 0.9\n",
        "margin = 1"
      ],
      "metadata": {
        "id": "PNUzf7nEJH2i"
      },
      "execution_count": null,
      "outputs": []
    },
    {
      "cell_type": "code",
      "source": [
        "# Hyper parameters\n",
        "evaluate_every = 20 \n",
        "# download_every = 1000\n",
        "batch_size = 32\n",
        "n_iter = 400 # No. of training iterations\n",
        "\n",
        "# used for one batching testing\n",
        "N_way = 10 # how many classes for testing one-shot tasks. has to be less than num classes in dataset\n",
        "n_val = 250 # how many one-shot tasks to validate on\n",
        "\n",
        "# used for straight validation testing\n",
        "val_batch_size = 16\n",
        "\n",
        "best = -1\n",
        "epochs = 10\n",
        "steps_per_epoch = 100\n",
        "emb_size = 1280"
      ],
      "metadata": {
        "id": "KQl2ZvFMJSH6"
      },
      "execution_count": null,
      "outputs": []
    },
    {
      "cell_type": "code",
      "source": [
        "optimizer = RMSprop(learning_rate = lr, momentum=momentum)\n",
        "model.compile(loss=fn_loss(margin=margin),optimizer=optimizer)"
      ],
      "metadata": {
        "id": "zEaM57eFJKKD"
      },
      "execution_count": null,
      "outputs": []
    },
    {
      "cell_type": "code",
      "source": [
        "history = model.fit(\n",
        "    data_generator(train_data, batch_size, (224, 224, 3)),\n",
        "    steps_per_epoch=steps_per_epoch,\n",
        "    validation_data = data_generator(val_data, val_batch_size, (224, 224, 3)),\n",
        "    validation_steps = 10,\n",
        "    epochs=epochs, verbose=True)"
      ],
      "metadata": {
        "colab": {
          "base_uri": "https://localhost:8080/"
        },
        "id": "0ZDjceSQkd6C",
        "outputId": "b7c718e9-b9f6-40ab-cf36-9c6c0f4c621e"
      },
      "execution_count": null,
      "outputs": [
        {
          "output_type": "stream",
          "name": "stdout",
          "text": [
            "Epoch 1/10\n",
            "100/100 [==============================] - 153s 1s/step - loss: 6.9116 - val_loss: 9.3720\n",
            "Epoch 2/10\n",
            "100/100 [==============================] - 130s 1s/step - loss: 4.8804 - val_loss: 4.5531\n",
            "Epoch 3/10\n",
            "100/100 [==============================] - 130s 1s/step - loss: 3.0576 - val_loss: 9.1756\n",
            "Epoch 4/10\n",
            "100/100 [==============================] - 131s 1s/step - loss: 3.0450 - val_loss: 12.6167\n",
            "Epoch 5/10\n",
            "100/100 [==============================] - 130s 1s/step - loss: 2.6882 - val_loss: 9.7248\n",
            "Epoch 6/10\n",
            "100/100 [==============================] - 131s 1s/step - loss: 2.2808 - val_loss: 4.9921\n",
            "Epoch 7/10\n",
            "100/100 [==============================] - 130s 1s/step - loss: 2.1334 - val_loss: 7.0146\n",
            "Epoch 8/10\n",
            "100/100 [==============================] - 131s 1s/step - loss: 2.2237 - val_loss: 6.2172\n",
            "Epoch 9/10\n",
            "100/100 [==============================] - 131s 1s/step - loss: 1.5537 - val_loss: 6.0918\n",
            "Epoch 10/10\n",
            "100/100 [==============================] - 131s 1s/step - loss: 1.4514 - val_loss: 5.4165\n"
          ]
        }
      ]
    },
    {
      "cell_type": "code",
      "source": [
        "model_path = './weights/'\n",
        "model_name = \"mobilenet_pretrained_triplet_2\""
      ],
      "metadata": {
        "id": "if3CPH-EI0RU"
      },
      "execution_count": null,
      "outputs": []
    },
    {
      "cell_type": "code",
      "source": [
        "model.save(os.path.join(model_path, 'weights_{}.h5'.format(model_name)))"
      ],
      "metadata": {
        "id": "2H5StTQpIo_W",
        "colab": {
          "base_uri": "https://localhost:8080/"
        },
        "outputId": "21d6e4a9-b80c-4130-9655-bdef82ee161b"
      },
      "execution_count": null,
      "outputs": [
        {
          "output_type": "stream",
          "name": "stderr",
          "text": [
            "/usr/local/lib/python3.7/dist-packages/keras/engine/functional.py:1410: CustomMaskWarning: Custom mask layers require a config and must override get_config. When loading, the custom mask layer must be passed to the custom_objects argument.\n",
            "  layer_config = serialize_layer_fn(layer)\n"
          ]
        }
      ]
    },
    {
      "cell_type": "code",
      "source": [
        ""
      ],
      "metadata": {
        "id": "IP5mv3PifOry"
      },
      "execution_count": null,
      "outputs": []
    }
  ]
}
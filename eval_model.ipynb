{
 "cells": [
  {
   "cell_type": "code",
   "execution_count": 1,
   "metadata": {
    "scrolled": true
   },
   "outputs": [],
   "source": [
    "import tensorflow as tf\n",
    "from tensorflow.keras import layers, models\n",
    "from tensorflow.keras.models import Model\n",
    "from tensorflow.keras.regularizers import l2\n",
    "from keras import backend as K\n",
    "import numpy as np\n",
    "from tqdm import tqdm\n",
    "from knn import kNN, convert_embeddings_to_tf\n",
    "from load_mini_imagenet import load_mini_imagenet_data, split_for_n_shot\n",
    "tf.compat.v1.enable_eager_execution()"
   ]
  },
  {
   "cell_type": "code",
   "execution_count": 2,
   "metadata": {},
   "outputs": [],
   "source": [
    "%load_ext autoreload\n",
    "%autoreload 2"
   ]
  },
  {
   "cell_type": "code",
   "execution_count": 3,
   "metadata": {},
   "outputs": [],
   "source": [
    "def fn_loss(margin=1):\n",
    "    \"\"\"Provides 'triplet loss' an enclosing scope with variable 'margin'.\n",
    "\n",
    "  Arguments:\n",
    "      margin: Integer, defines the baseline for distance for which pairs\n",
    "              should be classified as dissimilar. - (default is 1).\n",
    "\n",
    "  Returns:\n",
    "      'triplet_loss' function with data ('margin') attached.\n",
    "  \"\"\"\n",
    "    # L(A, P, N) = max(‖f(A) - f(P)‖² - ‖f(A) - f(N)‖² + margin, 0)\n",
    "    def triplet_loss(y_true, y_pred):\n",
    "        anchor, positive, negative = y_pred[:,:emb_size], y_pred[:,emb_size:2*emb_size], y_pred[:,2*emb_size:]\n",
    "        positive_dist = tf.reduce_sum(tf.square(anchor - positive), axis=1)\n",
    "        negative_dist = tf.reduce_sum(tf.square(anchor - negative), axis=1)\n",
    "      \n",
    "        return tf.reduce_mean(tf.maximum(positive_dist - negative_dist + margin, 0.))\n",
    "    \n",
    "\n",
    "    return triplet_loss"
   ]
  },
  {
   "cell_type": "code",
   "execution_count": 4,
   "metadata": {},
   "outputs": [
    {
     "name": "stdout",
     "output_type": "stream",
     "text": [
      "Model: \"model\"\n",
      "__________________________________________________________________________________________________\n",
      " Layer (type)                   Output Shape         Param #     Connected to                     \n",
      "==================================================================================================\n",
      " input_2 (InputLayer)           [(None, 224, 224, 3  0           []                               \n",
      "                                )]                                                                \n",
      "                                                                                                  \n",
      " input_1 (InputLayer)           [(None, 224, 224, 3  0           []                               \n",
      "                                )]                                                                \n",
      "                                                                                                  \n",
      " input_3 (InputLayer)           [(None, 224, 224, 3  0           []                               \n",
      "                                )]                                                                \n",
      "                                                                                                  \n",
      " mobilenetv2_1.00_224 (Function  (None, 7, 7, 1280)  2257984     ['input_1[0][0]',                \n",
      " al)                                                              'input_2[0][0]',                \n",
      "                                                                  'input_3[0][0]']                \n",
      "                                                                                                  \n",
      " global_average_pooling2d_1 (Gl  (None, 1280)        0           ['mobilenetv2_1.00_224[1][0]']   \n",
      " obalAveragePooling2D)                                                                            \n",
      "                                                                                                  \n",
      " global_average_pooling2d (Glob  (None, 1280)        0           ['mobilenetv2_1.00_224[0][0]']   \n",
      " alAveragePooling2D)                                                                              \n",
      "                                                                                                  \n",
      " global_average_pooling2d_2 (Gl  (None, 1280)        0           ['mobilenetv2_1.00_224[2][0]']   \n",
      " obalAveragePooling2D)                                                                            \n",
      "                                                                                                  \n",
      " concatenate (Concatenate)      (None, 3840)         0           ['global_average_pooling2d_1[0][0\n",
      "                                                                 ]',                              \n",
      "                                                                  'global_average_pooling2d[0][0]'\n",
      "                                                                 , 'global_average_pooling2d_2[0][\n",
      "                                                                 0]']                             \n",
      "                                                                                                  \n",
      "==================================================================================================\n",
      "Total params: 2,257,984\n",
      "Trainable params: 2,223,872\n",
      "Non-trainable params: 34,112\n",
      "__________________________________________________________________________________________________\n"
     ]
    }
   ],
   "source": [
    "model = tf.keras.models.load_model(\"weights/weights_mobilenet_pretrained_triplet_2.h5\", custom_objects={'triplet_loss':fn_loss(1)})\n",
    "model.summary()"
   ]
  },
  {
   "cell_type": "code",
   "execution_count": 5,
   "metadata": {},
   "outputs": [],
   "source": [
    "X_test, y_test = load_mini_imagenet_data(\"mini-imagenet-cache-test.pkl\")\n",
    "X_support, y_support, X_test, y_test = split_for_n_shot(X_test, y_test, n=5)\n",
    "mean = np.mean(X_support, axis=(0, 1, 2))\n",
    "stddev = np.std(X_support, axis=(0, 1, 2))\n",
    "X_support_norm = np.float32((X_support - mean) / stddev)\n",
    "X_test_norm = np.float32((X_test - mean) / stddev)"
   ]
  },
  {
   "cell_type": "code",
   "execution_count": 6,
   "metadata": {},
   "outputs": [],
   "source": [
    "support_features = model.layers[3](tf.image.resize(X_support_norm, (224, 224)))\n",
    "support_features = layers.GlobalAveragePooling2D()(support_features).numpy()"
   ]
  },
  {
   "cell_type": "code",
   "execution_count": 7,
   "metadata": {},
   "outputs": [
    {
     "data": {
      "text/plain": [
       "(100, 1280)"
      ]
     },
     "execution_count": 7,
     "metadata": {},
     "output_type": "execute_result"
    }
   ],
   "source": [
    "support_features.shape"
   ]
  },
  {
   "cell_type": "code",
   "execution_count": 10,
   "metadata": {},
   "outputs": [
    {
     "name": "stderr",
     "output_type": "stream",
     "text": [
      "11900it [15:55, 12.45it/s]\n"
     ]
    }
   ],
   "source": [
    "correct = 0\n",
    "for i, label in tqdm(enumerate(y_test)):\n",
    "    feat = model.layers[3](tf.image.resize(np.array([X_test_norm[i]]), (224, 224)))\n",
    "    feat = layers.GlobalAveragePooling2D()(feat).numpy().squeeze()\n",
    "    predicted = kNN(support_features, y_support, feat, k=1)\n",
    "    if predicted == label:\n",
    "        correct += 1"
   ]
  },
  {
   "cell_type": "code",
   "execution_count": 11,
   "metadata": {},
   "outputs": [
    {
     "name": "stdout",
     "output_type": "stream",
     "text": [
      "0.6564705882352941\n"
     ]
    }
   ],
   "source": [
    "print(correct / len(y_test))"
   ]
  },
  {
   "cell_type": "code",
   "execution_count": 12,
   "metadata": {},
   "outputs": [],
   "source": [
    "tf.compat.v1.disable_eager_execution()\n",
    "convert_embeddings_to_tf(support_features, y_support, log_dir=\"logs/pretrained_mobilenet_triplet/\")"
   ]
  },
  {
   "cell_type": "code",
   "execution_count": null,
   "metadata": {},
   "outputs": [],
   "source": []
  }
 ],
 "metadata": {
  "interpreter": {
   "hash": "1f542a3ab31a9a3c6b7c3dd7c1c6bd10885ac4dfcbfb0649c6a0075ecd702394"
  },
  "kernelspec": {
   "display_name": "Python 3",
   "language": "python",
   "name": "python3"
  },
  "language_info": {
   "codemirror_mode": {
    "name": "ipython",
    "version": 3
   },
   "file_extension": ".py",
   "mimetype": "text/x-python",
   "name": "python",
   "nbconvert_exporter": "python",
   "pygments_lexer": "ipython3",
   "version": "3.7.11"
  }
 },
 "nbformat": 4,
 "nbformat_minor": 4
}

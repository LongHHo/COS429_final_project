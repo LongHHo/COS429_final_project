{
  "cells": [
    {
      "cell_type": "code",
      "execution_count": null,
      "metadata": {
        "colab": {
          "base_uri": "https://localhost:8080/"
        },
        "id": "7zu08tzZ8KG5",
        "outputId": "95a7b9d7-15d2-456c-84e7-c1b95933be57"
      },
      "outputs": [
        {
          "name": "stdout",
          "output_type": "stream",
          "text": [
            "Found GPU at: /device:GPU:0\n"
          ]
        }
      ],
      "source": [
        "%tensorflow_version 2.x\n",
        "import tensorflow as tf\n",
        "device_name = tf.test.gpu_device_name()\n",
        "if device_name != '/device:GPU:0':\n",
        "  raise SystemError('GPU device not found')\n",
        "print('Found GPU at: {}'.format(device_name))"
      ]
    },
    {
      "cell_type": "code",
      "execution_count": null,
      "metadata": {
        "id": "bd9jL6qBcr5F"
      },
      "outputs": [],
      "source": [
        "import sys\n",
        "import numpy as np\n",
        "import pandas as pd\n",
        "# from scipy.misc import imread\n",
        "import pickle\n",
        "import os\n",
        "import matplotlib.pyplot as plt\n",
        "%matplotlib inline\n",
        "\n",
        "import cv2\n",
        "import time\n",
        "\n",
        "import tensorflow as tf\n",
        "from tensorflow.keras.models import Sequential\n",
        "from tensorflow.keras.optimizers import Adam\n",
        "from keras.layers import Conv2D, ZeroPadding2D, Activation, Input, concatenate\n",
        "from keras.models import Model\n",
        "\n",
        "from tensorflow.keras.layers import BatchNormalization, Layer\n",
        "from keras.layers.pooling import MaxPooling2D\n",
        "from keras.layers.merge import Concatenate\n",
        "from keras.layers.core import Lambda, Flatten, Dense\n",
        "from keras.initializers import glorot_uniform\n",
        "\n",
        "\n",
        "from keras.regularizers import l2\n",
        "from keras import backend as K\n",
        "\n",
        "from sklearn.utils import shuffle\n",
        "\n",
        "import numpy.random as rng\n",
        "import pickle"
      ]
    },
    {
      "cell_type": "code",
      "execution_count": null,
      "metadata": {
        "id": "H-mJ-t0zfXs0"
      },
      "outputs": [],
      "source": [
        "# returns three lists: anchor, positive, negative\n",
        "def get_triple_batch(batch_size, train_data):\n",
        "    \"\"\"\n",
        "    Create three lists of anchor images, positive images, negative images\n",
        "    \"\"\"\n",
        "    n_classes, n_examples, w, h, d = train_data.shape\n",
        "    \n",
        "\n",
        "    rng = np.random.default_rng()\n",
        "\n",
        "    # randomly sample several classes to use in the batch\n",
        "    categories = rng.choice(n_classes,size=(batch_size,),replace=False)\n",
        "    \n",
        "    # initialize 2 empty arrays for the input image batch\n",
        "    anchor = np.zeros((batch_size, w, h, d))\n",
        "\n",
        "    positive = np.zeros((batch_size, w, h, d))\n",
        "\n",
        "    negative = np.zeros((batch_size, w, h, d))\n",
        "\n",
        "    \n",
        "    for i in range(batch_size):\n",
        "        category = categories[i]\n",
        "        idx_1 = np.random.randint(0, n_examples)\n",
        "        anchor[i,:,:,:] = train_data[category, idx_1].reshape(w, h, d)\n",
        "        \n",
        "        idx_pos = np.random.randint(0, n_examples)\n",
        "        cat_pos = category\n",
        "        positive[i,:,:,:] = train_data[cat_pos,idx_pos].reshape(w, h, d)\n",
        "\n",
        "        idx_neg = np.random.randint(0, n_examples)\n",
        "        cat_neg = (category + np.random.randint(1,n_classes)) % n_classes\n",
        "        negative[i,:,:,:] = train_data[cat_neg,idx_neg].reshape(w, h, d)\n",
        "\n",
        "    \n",
        "\n",
        "    return anchor, positive, negative\n"
      ]
    },
    {
      "cell_type": "code",
      "execution_count": null,
      "metadata": {
        "id": "_DnFizbIavhH",
        "scrolled": false
      },
      "outputs": [],
      "source": [
        "%load_ext autoreload\n",
        "%autoreload 2"
      ]
    },
    {
      "cell_type": "code",
      "execution_count": null,
      "metadata": {
        "id": "1weR9E8xavhH"
      },
      "outputs": [],
      "source": [
        "train_in = open(\"mini-imagenet-cache-train.pkl\", \"rb\")\n",
        "train = pickle.load(train_in)\n",
        "ungrouped_Xtrain = train[\"image_data\"]\n",
        "val_in = open(\"mini-imagenet-cache-val.pkl\", \"rb\")\n",
        "val = pickle.load(val_in)\n",
        "ungrouped_Xval = val[\"image_data\"]\n",
        "val_data = ungrouped_Xval.reshape([16, 600, 84, 84, 3])"
      ]
    },
    {
      "cell_type": "code",
      "execution_count": null,
      "metadata": {
        "id": "ppRceFtV-LN1"
      },
      "outputs": [],
      "source": [
        "train_mean = ungrouped_Xtrain.mean(axis=(0,1,2)) \n",
        "train_std = ungrouped_Xtrain.std(axis=(0,1,2))"
      ]
    },
    {
      "cell_type": "code",
      "execution_count": null,
      "metadata": {
        "id": "lBf7v1K-Doxt"
      },
      "outputs": [],
      "source": [
        "ungrouped_Xtrain = ungrouped_Xtrain.astype('float32')\n",
        "ungrouped_Xval = ungrouped_Xval.astype('float32')"
      ]
    },
    {
      "cell_type": "code",
      "execution_count": null,
      "metadata": {
        "id": "K7T2Qtr6CWjk"
      },
      "outputs": [],
      "source": [
        "\n",
        "ungrouped_Xtrain[..., 0] -= train_mean[0]\n",
        "ungrouped_Xtrain[..., 1] -= train_mean[1]\n",
        "ungrouped_Xtrain[..., 2] -= train_mean[2]\n",
        "ungrouped_Xtrain[..., 0] /= train_std[0]\n",
        "ungrouped_Xtrain[..., 1] /= train_std[1]\n",
        "ungrouped_Xtrain[..., 2] /= train_std[2]\n",
        "\n",
        "\n",
        "ungrouped_Xval[..., 0] -= train_mean[0]\n",
        "ungrouped_Xval[..., 1] -= train_mean[1]\n",
        "ungrouped_Xval[..., 2] -= train_mean[2]\n",
        "ungrouped_Xval[..., 0] /= train_std[0]\n",
        "ungrouped_Xval[..., 1] /= train_std[1]\n",
        "ungrouped_Xval[..., 2] /= train_std[2]\n",
        "\n"
      ]
    },
    {
      "cell_type": "code",
      "execution_count": null,
      "metadata": {
        "id": "8lYiT3ryC_pe"
      },
      "outputs": [],
      "source": [
        "train_data = ungrouped_Xtrain.reshape([64, 600, 84, 84, 3])\n",
        "val_data = ungrouped_Xval.reshape([16, 600, 84, 84, 3])"
      ]
    },
    {
      "cell_type": "markdown",
      "metadata": {
        "id": "z7CU3S4SavhI"
      },
      "source": [
        "### Loading the validation images into tensors"
      ]
    },
    {
      "cell_type": "markdown",
      "metadata": {
        "id": "vBoErHFRavhJ"
      },
      "source": [
        "### Saving the validation tensors on disk"
      ]
    },
    {
      "cell_type": "code",
      "execution_count": null,
      "metadata": {
        "id": "Gx3KvkC5avhK"
      },
      "outputs": [],
      "source": [
        "def initialize_weights(shape, name=None, dtype=None):\n",
        "    \"\"\"\n",
        "        The paper, http://www.cs.utoronto.ca/~gkoch/files/msc-thesis.pdf\n",
        "        suggests to initialize CNN layer weights with mean as 0.0 and standard deviation of 0.01\n",
        "    \"\"\"\n",
        "    return np.random.normal(loc = 0.0, scale = 1e-2, size = shape)"
      ]
    },
    {
      "cell_type": "code",
      "execution_count": null,
      "metadata": {
        "id": "_aGrnxbsavhL"
      },
      "outputs": [],
      "source": [
        "def initialize_bias(shape, name=None, dtype=None):\n",
        "    \"\"\"\n",
        "        The paper, http://www.cs.utoronto.ca/~gkoch/files/msc-thesis.pdf\n",
        "        suggests to initialize CNN layer bias with mean as 0.5 and standard deviation of 0.01\n",
        "    \"\"\"\n",
        "    return np.random.normal(loc = 0.5, scale = 1e-2, size = shape)"
      ]
    },
    {
      "cell_type": "code",
      "execution_count": null,
      "metadata": {
        "id": "CMn0UaFo5ep4"
      },
      "outputs": [],
      "source": [
        "def L2_Norm(vectors):\n",
        "    # unpack the vectors into separate lists\n",
        "    (featsA, featsB) = vectors\n",
        "    # compute the sum of squared distances between the vectors\n",
        "    sumSquared = K.sum(K.square(featsA - featsB), axis=1,\n",
        "      keepdims=True)\n",
        "    # return the euclidean distance between the vectors\n",
        "    return K.sqrt(K.maximum(sumSquared, K.epsilon()))"
      ]
    },
    {
      "cell_type": "code",
      "execution_count": null,
      "metadata": {
        "id": "2jymdtycavhM"
      },
      "outputs": [],
      "source": [
        "emb_size = 4096\n",
        "def get_siamese_model(input_shape):\n",
        "    \"\"\"\n",
        "        Model architecture based on the one provided in: http://www.cs.utoronto.ca/~gkoch/files/msc-thesis.pdf\n",
        "    \"\"\"\n",
        "    \n",
        "    # Define the tensors for the two input images\n",
        "    pos_input = Input(input_shape)\n",
        "    neg_input = Input(input_shape)\n",
        "    anchor_input = Input(input_shape)\n",
        "    \n",
        "    # Convolutional Neural Network\n",
        "    model = Sequential()\n",
        "    model.add(Conv2D(128, (10,10), activation='relu', input_shape=input_shape,\n",
        "                   kernel_initializer=initialize_weights, kernel_regularizer=l2(2e-4)))\n",
        "    model.add(MaxPooling2D())\n",
        "    model.add(Conv2D(256, (7,7), activation='relu',\n",
        "                     kernel_initializer=initialize_weights,\n",
        "                     bias_initializer=initialize_bias, kernel_regularizer=l2(2e-4)))\n",
        "    model.add(MaxPooling2D())\n",
        "    model.add(Conv2D(256, (4,4), activation='relu', kernel_initializer=initialize_weights,\n",
        "                     bias_initializer=initialize_bias, kernel_regularizer=l2(2e-4)))\n",
        "    model.add(MaxPooling2D())\n",
        "    model.add(Conv2D(512, (4,4), activation='relu', kernel_initializer=initialize_weights,\n",
        "                     bias_initializer=initialize_bias, kernel_regularizer=l2(2e-4)))\n",
        "    model.add(Flatten())\n",
        "    model.add(Dense(emb_size, activation='sigmoid',\n",
        "                   kernel_regularizer=l2(1e-3),\n",
        "                   kernel_initializer=initialize_weights,bias_initializer=initialize_bias))\n",
        "    \n",
        "    # Generate the encodings (feature vectors) for the three images\n",
        "    encoded_p = model(pos_input)\n",
        "    encoded_n = model(neg_input)\n",
        "    encoded_a = model(anchor_input)\n",
        "    \n",
        "    # # Add a customized layer to compute the eucl distances\n",
        "    # # L2_dists = tuple: (positive distance, negative distance)\n",
        "    # L2_distances = Lambda(triplet_dists)([encoded_p, encoded_n, encoded_a])\n",
        "\n",
        "\n",
        "    embedded_layers = tf.keras.layers.concatenate([encoded_a, encoded_p, encoded_n], axis=1)\n",
        "    \n",
        "    # Connect the inputs with the outputs\n",
        "    # the output is going to be the distance itself\n",
        "    siamese_net = Model(inputs=[pos_input,neg_input, anchor_input],outputs=embedded_layers)\n",
        "    \n",
        "    # return the model\n",
        "    return siamese_net"
      ]
    },
    {
      "cell_type": "code",
      "execution_count": null,
      "metadata": {
        "colab": {
          "base_uri": "https://localhost:8080/"
        },
        "id": "Sgy7gBz5avhM",
        "outputId": "ab7322f4-da24-4d19-e7f1-cb4525947322"
      },
      "outputs": [
        {
          "name": "stdout",
          "output_type": "stream",
          "text": [
            "Model: \"model\"\n",
            "__________________________________________________________________________________________________\n",
            " Layer (type)                   Output Shape         Param #     Connected to                     \n",
            "==================================================================================================\n",
            " input_3 (InputLayer)           [(None, 84, 84, 3)]  0           []                               \n",
            "                                                                                                  \n",
            " input_1 (InputLayer)           [(None, 84, 84, 3)]  0           []                               \n",
            "                                                                                                  \n",
            " input_2 (InputLayer)           [(None, 84, 84, 3)]  0           []                               \n",
            "                                                                                                  \n",
            " sequential (Sequential)        (None, 4096)         23669376    ['input_1[0][0]',                \n",
            "                                                                  'input_2[0][0]',                \n",
            "                                                                  'input_3[0][0]']                \n",
            "                                                                                                  \n",
            " concatenate (Concatenate)      (None, 12288)        0           ['sequential[2][0]',             \n",
            "                                                                  'sequential[0][0]',             \n",
            "                                                                  'sequential[1][0]']             \n",
            "                                                                                                  \n",
            "==================================================================================================\n",
            "Total params: 23,669,376\n",
            "Trainable params: 23,669,376\n",
            "Non-trainable params: 0\n",
            "__________________________________________________________________________________________________\n"
          ]
        }
      ],
      "source": [
        "model = get_siamese_model((84, 84, 3))\n",
        "model.summary()"
      ]
    },
    {
      "cell_type": "code",
      "execution_count": null,
      "metadata": {
        "id": "VJvckG9o4n42"
      },
      "outputs": [],
      "source": [
        "def fn_loss(margin=1):\n",
        "    \"\"\"Provides 'triplet loss' an enclosing scope with variable 'margin'.\n",
        "\n",
        "  Arguments:\n",
        "      margin: Integer, defines the baseline for distance for which pairs\n",
        "              should be classified as dissimilar. - (default is 1).\n",
        "\n",
        "  Returns:\n",
        "      'triplet_loss' function with data ('margin') attached.\n",
        "  \"\"\"\n",
        "    # L(A, P, N) = max(‖f(A) - f(P)‖² - ‖f(A) - f(N)‖² + margin, 0)\n",
        "    def triplet_loss(y_true, y_pred):\n",
        "        anchor, positive, negative = y_pred[:,:emb_size], y_pred[:,emb_size:2*emb_size], y_pred[:,2*emb_size:]\n",
        "        positive_dist = tf.reduce_sum(tf.square(anchor - positive), axis=1)\n",
        "        negative_dist = tf.reduce_sum(tf.square(anchor - negative), axis=1)\n",
        "      \n",
        "        return tf.reduce_mean(tf.maximum(positive_dist - negative_dist + margin, 0.))\n",
        "    \n",
        "\n",
        "    return triplet_loss"
      ]
    },
    {
      "cell_type": "code",
      "execution_count": null,
      "metadata": {
        "id": "eLApDK326Kdr"
      },
      "outputs": [],
      "source": [
        "# Hyper params\n",
        "lr = 0.0001\n",
        "margin = 1"
      ]
    },
    {
      "cell_type": "code",
      "execution_count": null,
      "metadata": {
        "id": "kvG0JWBEavhN"
      },
      "outputs": [],
      "source": [
        "optimizer = Adam(learning_rate = lr)\n",
        "model.compile(loss=fn_loss(margin=margin),optimizer=optimizer)"
      ]
    },
    {
      "cell_type": "code",
      "execution_count": null,
      "metadata": {
        "id": "4JPHXp6Y4nNq"
      },
      "outputs": [],
      "source": [
        "def data_generator(data, batch_size):\n",
        "    while True:\n",
        "        anchor_input, pos_input, neg_input = get_triple_batch(batch_size, data)\n",
        "        y = np.ones((batch_size))\n",
        "        yield [pos_input,neg_input, anchor_input], y"
      ]
    },
    {
      "cell_type": "code",
      "execution_count": null,
      "metadata": {
        "id": "T21aC24WgVu_"
      },
      "outputs": [],
      "source": [
        "def val_generate(data, batch_size):\n",
        "    anchor_input, pos_input, neg_input = get_triple_batch(batch_size, data)\n",
        "    y = np.ones((batch_size))\n",
        "    return [pos_input,neg_input, anchor_input], y"
      ]
    },
    {
      "cell_type": "markdown",
      "metadata": {
        "id": "9XU5W5GYavhN"
      },
      "source": [
        "### Loading the train tensors"
      ]
    },
    {
      "cell_type": "code",
      "execution_count": null,
      "metadata": {
        "id": "0f9wiSOMavhO"
      },
      "outputs": [],
      "source": [
        "# Hyper parameters\n",
        "evaluate_every = 20 \n",
        "# download_every = 1000\n",
        "batch_size = 64\n",
        "n_iter = 400 # No. of training iterations\n",
        "\n",
        "# used for one batching testing\n",
        "N_way = 10 # how many classes for testing one-shot tasks. has to be less than num classes in dataset\n",
        "n_val = 250 # how many one-shot tasks to validate on\n",
        "\n",
        "# used for straight validation testing\n",
        "val_batch_size = 16\n",
        "\n",
        "best = -1\n",
        "epochs = 10\n",
        "steps_per_epoch = 1000"
      ]
    },
    {
      "cell_type": "code",
      "execution_count": null,
      "metadata": {
        "id": "Q41Lld0a6rmk"
      },
      "outputs": [],
      "source": [
        "check_loss = fn_loss(margin=1)"
      ]
    },
    {
      "cell_type": "code",
      "execution_count": null,
      "metadata": {
        "id": "W-nqKS3IavhO"
      },
      "outputs": [],
      "source": [
        "model_path = './weights/'\n",
        "model_name = \"triplet_loss_2\""
      ]
    },
    {
      "cell_type": "code",
      "execution_count": null,
      "metadata": {
        "colab": {
          "base_uri": "https://localhost:8080/"
        },
        "id": "sJJdNtGVVpWl",
        "outputId": "3147e008-c7bc-4d63-e96a-e890bfc75da8"
      },
      "outputs": [
        {
          "name": "stdout",
          "output_type": "stream",
          "text": [
            "Epoch 1/10\n",
            "1000/1000 [==============================] - 644s 636ms/step - loss: 1.2768 - val_loss: 1.0316\n",
            "Epoch 2/10\n",
            "1000/1000 [==============================] - 633s 633ms/step - loss: 0.9443 - val_loss: 0.9968\n",
            "Epoch 3/10\n",
            "1000/1000 [==============================] - 631s 631ms/step - loss: 0.8748 - val_loss: 0.8581\n",
            "Epoch 4/10\n",
            "1000/1000 [==============================] - 630s 630ms/step - loss: 0.8104 - val_loss: 0.8834\n",
            "Epoch 5/10\n",
            "1000/1000 [==============================] - 629s 629ms/step - loss: 0.7722 - val_loss: 0.8085\n",
            "Epoch 6/10\n",
            "1000/1000 [==============================] - 628s 628ms/step - loss: 0.7341 - val_loss: 0.8928\n",
            "Epoch 7/10\n",
            "1000/1000 [==============================] - 628s 628ms/step - loss: 0.7072 - val_loss: 0.8489\n",
            "Epoch 8/10\n",
            "1000/1000 [==============================] - 627s 627ms/step - loss: 0.6891 - val_loss: 0.7805\n",
            "Epoch 9/10\n",
            "1000/1000 [==============================] - 627s 627ms/step - loss: 0.6599 - val_loss: 0.7316\n",
            "Epoch 10/10\n",
            "1000/1000 [==============================] - 626s 626ms/step - loss: 0.6372 - val_loss: 0.8289\n"
          ]
        }
      ],
      "source": [
        "history = model.fit(\n",
        "    data_generator(train_data, batch_size),\n",
        "    steps_per_epoch=steps_per_epoch,\n",
        "    validation_data = data_generator(val_data, val_batch_size),\n",
        "    validation_steps= 10,\n",
        "    epochs=epochs, verbose=True)"
      ]
    },
    {
      "cell_type": "code",
      "execution_count": null,
      "metadata": {
        "colab": {
          "base_uri": "https://localhost:8080/"
        },
        "id": "Ws9vFTAB1FSJ",
        "outputId": "281e1e12-de38-4295-9749-dd59fcda6fb6"
      },
      "outputs": [
        {
          "name": "stdout",
          "output_type": "stream",
          "text": [
            "Epoch 1/10\n",
            "1000/1000 [==============================] - 769s 769ms/step - loss: 0.6135 - val_loss: 0.8527\n",
            "Epoch 2/10\n",
            "1000/1000 [==============================] - 767s 767ms/step - loss: 0.5990 - val_loss: 0.7040\n",
            "Epoch 3/10\n",
            "1000/1000 [==============================] - 765s 765ms/step - loss: 0.5859 - val_loss: 0.7432\n",
            "Epoch 4/10\n",
            "1000/1000 [==============================] - 765s 765ms/step - loss: 0.5629 - val_loss: 0.5760\n",
            "Epoch 5/10\n",
            "1000/1000 [==============================] - 765s 765ms/step - loss: 0.5520 - val_loss: 0.7734\n",
            "Epoch 6/10\n",
            "1000/1000 [==============================] - 765s 765ms/step - loss: 0.5393 - val_loss: 0.7976\n",
            "Epoch 7/10\n",
            "1000/1000 [==============================] - 765s 765ms/step - loss: 0.5248 - val_loss: 0.8128\n",
            "Epoch 8/10\n",
            "1000/1000 [==============================] - 765s 765ms/step - loss: 0.5123 - val_loss: 0.6703\n",
            "Epoch 9/10\n",
            "1000/1000 [==============================] - 765s 765ms/step - loss: 0.5005 - val_loss: 0.8467\n",
            "Epoch 10/10\n",
            "1000/1000 [==============================] - 765s 765ms/step - loss: 0.4917 - val_loss: 0.6767\n"
          ]
        }
      ],
      "source": [
        "epochs = 10\n",
        "history = model.fit(\n",
        "    data_generator(train_data, batch_size),\n",
        "    steps_per_epoch=steps_per_epoch,\n",
        "    validation_data = data_generator(val_data, val_batch_size),\n",
        "    validation_steps= 10,\n",
        "    epochs=epochs, verbose=True)"
      ]
    },
    {
      "cell_type": "code",
      "execution_count": null,
      "metadata": {
        "id": "R2xirn3AcON5"
      },
      "outputs": [],
      "source": [
        "model.save(os.path.join(model_path, 'weights_{}.h5'.format(model_name)))"
      ]
    }
  ],
  "metadata": {
    "accelerator": "GPU",
    "colab": {
      "collapsed_sections": [
        "w2BnMpT8avhP",
        "8TrGohtgavhP",
        "YQdoXnJFavhQ",
        "68T5BFqlavhQ",
        "nqgWAdtJavhR",
        "iHLf-EjRavhR"
      ],
      "name": "siamese_network_triplet_loss.ipynb",
      "provenance": []
    },
    "kernelspec": {
      "display_name": "Python 3",
      "language": "python",
      "name": "python3"
    },
    "language_info": {
      "codemirror_mode": {
        "name": "ipython",
        "version": 3
      },
      "file_extension": ".py",
      "mimetype": "text/x-python",
      "name": "python",
      "nbconvert_exporter": "python",
      "pygments_lexer": "ipython3",
      "version": "3.7.11"
    }
  },
  "nbformat": 4,
  "nbformat_minor": 0
}

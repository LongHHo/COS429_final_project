{
  "cells": [
    {
      "cell_type": "code",
      "execution_count": null,
      "metadata": {
        "colab": {
          "base_uri": "https://localhost:8080/",
          "height": 35
        },
        "id": "Snq6oo0lbeTR",
        "outputId": "9051096a-b8d9-4a36-98f0-3c47a355dcb0"
      },
      "outputs": [
        {
          "data": {
            "application/vnd.google.colaboratory.intrinsic+json": {
              "type": "string"
            },
            "text/plain": [
              "'/device:GPU:0'"
            ]
          },
          "execution_count": 3,
          "metadata": {},
          "output_type": "execute_result"
        }
      ],
      "source": [
        "import tensorflow as tf\n",
        "tf.test.gpu_device_name()"
      ]
    },
    {
      "cell_type": "code",
      "execution_count": null,
      "metadata": {
        "id": "bd9jL6qBcr5F"
      },
      "outputs": [],
      "source": [
        "import sys\n",
        "import numpy as np\n",
        "import pandas as pd\n",
        "# from scipy.misc import imread\n",
        "import pickle\n",
        "import os\n",
        "import matplotlib.pyplot as plt\n",
        "%matplotlib inline\n",
        "\n",
        "import cv2\n",
        "import time\n",
        "\n",
        "import tensorflow as tf\n",
        "from tensorflow.keras.models import Sequential\n",
        "from tensorflow.keras.optimizers import Adam\n",
        "from keras.layers import Conv2D, ZeroPadding2D, Activation, Input, concatenate\n",
        "from keras.models import Model\n",
        "\n",
        "from tensorflow.keras.layers import BatchNormalization, Layer\n",
        "from keras.layers.pooling import MaxPooling2D\n",
        "from keras.layers.merge import Concatenate\n",
        "from keras.layers.core import Lambda, Flatten, Dense\n",
        "from keras.initializers import glorot_uniform\n",
        "\n",
        "\n",
        "from keras.regularizers import l2\n",
        "from keras import backend as K\n",
        "\n",
        "from sklearn.utils import shuffle\n",
        "\n",
        "from siamese import make_oneshot_task, test_oneshot\n",
        "\n",
        "import numpy.random as rng\n",
        "import pickle"
      ]
    },
    {
      "cell_type": "code",
      "execution_count": null,
      "metadata": {
        "id": "H-mJ-t0zfXs0"
      },
      "outputs": [],
      "source": [
        "def get_pairwise_batch(batch_size, train_data):\n",
        "    \"\"\"\n",
        "    Create batch of n pairs, half same class, half different class\n",
        "    \"\"\"\n",
        "    n_classes, n_examples, w, h, d = train_data.shape\n",
        "    \n",
        "\n",
        "    rng = np.random.default_rng()\n",
        "\n",
        "    # randomly sample several classes to use in the batch\n",
        "    categories = rng.choice(n_classes,size=(batch_size,))\n",
        "    \n",
        "    # initialize 2 empty arrays for the input image batch\n",
        "    pairs=[np.zeros((batch_size, w, h, d)) for i in range(2)]\n",
        "    \n",
        "    # initialize vector for the targets\n",
        "    targets=np.zeros((batch_size,))\n",
        "    \n",
        "    # make one half of it '1's, so 2nd half of batch has same class\n",
        "    targets[batch_size//2:] = 1\n",
        "    for i in range(batch_size):\n",
        "        category = categories[i]\n",
        "        idx_1 = np.random.randint(0, n_examples)\n",
        "        pairs[0][i,:,:,:] = train_data[category, idx_1].reshape(w, h, d)\n",
        "        idx_2 = np.random.randint(0, n_examples)\n",
        "        \n",
        "        # pick images of same class for 1st half, different for 2nd\n",
        "        if i >= batch_size // 2:\n",
        "            category_2 = category  \n",
        "        else: \n",
        "            # add a random number to the category modulo n classes to ensure 2nd image has a different category\n",
        "            category_2 = (category + np.random.randint(1,n_classes)) % n_classes\n",
        "        \n",
        "        pairs[1][i,:,:,:] = train_data[category_2,idx_2].reshape(w, h, d)\n",
        "    \n",
        "    return pairs, targets\n"
      ]
    },
    {
      "cell_type": "code",
      "execution_count": null,
      "metadata": {
        "id": "_DnFizbIavhH",
        "scrolled": false
      },
      "outputs": [],
      "source": [
        "%load_ext autoreload\n",
        "%autoreload 2"
      ]
    },
    {
      "cell_type": "code",
      "execution_count": null,
      "metadata": {
        "id": "1weR9E8xavhH"
      },
      "outputs": [],
      "source": [
        "train_in = open(\"mini-imagenet-cache-train.pkl\", \"rb\")\n",
        "train = pickle.load(train_in)\n",
        "ungrouped_Xtrain = train[\"image_data\"]\n",
        "val_in = open(\"mini-imagenet-cache-val.pkl\", \"rb\")\n",
        "val = pickle.load(val_in)\n",
        "ungrouped_Xval = val[\"image_data\"]\n",
        "val_data = ungrouped_Xval.reshape([16, 600, 84, 84, 3])"
      ]
    },
    {
      "cell_type": "code",
      "execution_count": null,
      "metadata": {
        "id": "ppRceFtV-LN1"
      },
      "outputs": [],
      "source": [
        "train_mean = ungrouped_Xtrain.mean(axis=(0,1,2)) \n",
        "train_std = ungrouped_Xtrain.std(axis=(0,1,2))"
      ]
    },
    {
      "cell_type": "code",
      "execution_count": null,
      "metadata": {
        "id": "lBf7v1K-Doxt"
      },
      "outputs": [],
      "source": [
        "ungrouped_Xtrain = ungrouped_Xtrain.astype('float32')\n",
        "ungrouped_Xval = ungrouped_Xval.astype('float32')"
      ]
    },
    {
      "cell_type": "code",
      "execution_count": null,
      "metadata": {
        "id": "K7T2Qtr6CWjk"
      },
      "outputs": [],
      "source": [
        "\n",
        "ungrouped_Xtrain[..., 0] -= train_mean[0]\n",
        "ungrouped_Xtrain[..., 1] -= train_mean[1]\n",
        "ungrouped_Xtrain[..., 2] -= train_mean[2]\n",
        "ungrouped_Xtrain[..., 0] /= train_std[0]\n",
        "ungrouped_Xtrain[..., 1] /= train_std[1]\n",
        "ungrouped_Xtrain[..., 2] /= train_std[2]\n",
        "\n",
        "\n",
        "ungrouped_Xval[..., 0] -= train_mean[0]\n",
        "ungrouped_Xval[..., 1] -= train_mean[1]\n",
        "ungrouped_Xval[..., 2] -= train_mean[2]\n",
        "ungrouped_Xval[..., 0] /= train_std[0]\n",
        "ungrouped_Xval[..., 1] /= train_std[1]\n",
        "ungrouped_Xval[..., 2] /= train_std[2]\n",
        "\n"
      ]
    },
    {
      "cell_type": "code",
      "execution_count": null,
      "metadata": {
        "id": "8lYiT3ryC_pe"
      },
      "outputs": [],
      "source": [
        "train_data = ungrouped_Xtrain.reshape([64, 600, 84, 84, 3])\n",
        "val_data = ungrouped_Xval.reshape([16, 600, 84, 84, 3])"
      ]
    },
    {
      "cell_type": "code",
      "execution_count": null,
      "metadata": {
        "id": "Gx3KvkC5avhK"
      },
      "outputs": [],
      "source": [
        "def initialize_weights(shape, name=None, dtype=None):\n",
        "    \"\"\"\n",
        "        The paper, http://www.cs.utoronto.ca/~gkoch/files/msc-thesis.pdf\n",
        "        suggests to initialize CNN layer weights with mean as 0.0 and standard deviation of 0.01\n",
        "    \"\"\"\n",
        "    return np.random.normal(loc = 0.0, scale = 1e-2, size = shape)"
      ]
    },
    {
      "cell_type": "code",
      "execution_count": null,
      "metadata": {
        "id": "_aGrnxbsavhL"
      },
      "outputs": [],
      "source": [
        "def initialize_bias(shape, name=None, dtype=None):\n",
        "    \"\"\"\n",
        "        The paper, http://www.cs.utoronto.ca/~gkoch/files/msc-thesis.pdf\n",
        "        suggests to initialize CNN layer bias with mean as 0.5 and standard deviation of 0.01\n",
        "    \"\"\"\n",
        "    return np.random.normal(loc = 0.5, scale = 1e-2, size = shape)"
      ]
    },
    {
      "cell_type": "code",
      "execution_count": null,
      "metadata": {
        "id": "CMn0UaFo5ep4"
      },
      "outputs": [],
      "source": [
        "def L2_Norm(vectors):\n",
        "    # unpack the vectors into separate lists\n",
        "    (featsA, featsB) = vectors\n",
        "    # compute the sum of squared distances between the vectors\n",
        "    sumSquared = K.sum(K.square(featsA - featsB), axis=1,\n",
        "      keepdims=True)\n",
        "    # return the euclidean distance between the vectors\n",
        "    return K.sqrt(K.maximum(sumSquared, K.epsilon()))"
      ]
    },
    {
      "cell_type": "code",
      "execution_count": null,
      "metadata": {
        "id": "2jymdtycavhM"
      },
      "outputs": [],
      "source": [
        "def get_siamese_model(input_shape):\n",
        "    \"\"\"\n",
        "        Model architecture based on the one provided in: http://www.cs.utoronto.ca/~gkoch/files/msc-thesis.pdf\n",
        "    \"\"\"\n",
        "    \n",
        "    # Define the tensors for the two input images\n",
        "    left_input = Input(input_shape)\n",
        "    right_input = Input(input_shape)\n",
        "    \n",
        "    # Convolutional Neural Network\n",
        "    model = Sequential()\n",
        "    model.add(Conv2D(128, (10,10), activation='relu', input_shape=input_shape,\n",
        "                   kernel_initializer=initialize_weights, kernel_regularizer=l2(2e-4)))\n",
        "    model.add(MaxPooling2D())\n",
        "    model.add(Conv2D(256, (7,7), activation='relu',\n",
        "                     kernel_initializer=initialize_weights,\n",
        "                     bias_initializer=initialize_bias, kernel_regularizer=l2(2e-4)))\n",
        "    model.add(MaxPooling2D())\n",
        "    model.add(Conv2D(256, (4,4), activation='relu', kernel_initializer=initialize_weights,\n",
        "                     bias_initializer=initialize_bias, kernel_regularizer=l2(2e-4)))\n",
        "    model.add(MaxPooling2D())\n",
        "    model.add(Conv2D(512, (4,4), activation='relu', kernel_initializer=initialize_weights,\n",
        "                     bias_initializer=initialize_bias, kernel_regularizer=l2(2e-4)))\n",
        "    model.add(Flatten())\n",
        "    model.add(Dense(4096, activation='sigmoid',\n",
        "                   kernel_regularizer=l2(1e-3),\n",
        "                   kernel_initializer=initialize_weights,bias_initializer=initialize_bias))\n",
        "    \n",
        "    # Generate the encodings (feature vectors) for the two images\n",
        "    encoded_l = model(left_input)\n",
        "    encoded_r = model(right_input)\n",
        "    \n",
        "    # Add a customized layer to compute the absolute difference between the encodings\n",
        "    L2_distance = Lambda(L2_Norm)([encoded_l, encoded_r])\n",
        "    \n",
        "    # Connect the inputs with the outputs\n",
        "    # the output is going to be the distance itself\n",
        "    siamese_net = Model(inputs=[left_input,right_input],outputs=L2_distance)\n",
        "    \n",
        "    # return the model\n",
        "    return siamese_net"
      ]
    },
    {
      "cell_type": "code",
      "execution_count": null,
      "metadata": {
        "colab": {
          "base_uri": "https://localhost:8080/"
        },
        "id": "Sgy7gBz5avhM",
        "outputId": "e72814ce-d92e-4e88-cb92-6fafb9ddd335"
      },
      "outputs": [
        {
          "name": "stdout",
          "output_type": "stream",
          "text": [
            "Model: \"model\"\n",
            "__________________________________________________________________________________________________\n",
            " Layer (type)                   Output Shape         Param #     Connected to                     \n",
            "==================================================================================================\n",
            " input_1 (InputLayer)           [(None, 84, 84, 3)]  0           []                               \n",
            "                                                                                                  \n",
            " input_2 (InputLayer)           [(None, 84, 84, 3)]  0           []                               \n",
            "                                                                                                  \n",
            " sequential (Sequential)        (None, 4096)         23669376    ['input_1[0][0]',                \n",
            "                                                                  'input_2[0][0]']                \n",
            "                                                                                                  \n",
            " lambda (Lambda)                (None, 1)            0           ['sequential[0][0]',             \n",
            "                                                                  'sequential[1][0]']             \n",
            "                                                                                                  \n",
            "==================================================================================================\n",
            "Total params: 23,669,376\n",
            "Trainable params: 23,669,376\n",
            "Non-trainable params: 0\n",
            "__________________________________________________________________________________________________\n",
            "Model: \"sequential\"\n",
            "_________________________________________________________________\n",
            " Layer (type)                Output Shape              Param #   \n",
            "=================================================================\n",
            " conv2d (Conv2D)             (None, 75, 75, 128)       38528     \n",
            "                                                                 \n",
            " max_pooling2d (MaxPooling2D  (None, 37, 37, 128)      0         \n",
            " )                                                               \n",
            "                                                                 \n",
            " conv2d_1 (Conv2D)           (None, 31, 31, 256)       1605888   \n",
            "                                                                 \n",
            " max_pooling2d_1 (MaxPooling  (None, 15, 15, 256)      0         \n",
            " 2D)                                                             \n",
            "                                                                 \n",
            " conv2d_2 (Conv2D)           (None, 12, 12, 256)       1048832   \n",
            "                                                                 \n",
            " max_pooling2d_2 (MaxPooling  (None, 6, 6, 256)        0         \n",
            " 2D)                                                             \n",
            "                                                                 \n",
            " conv2d_3 (Conv2D)           (None, 3, 3, 512)         2097664   \n",
            "                                                                 \n",
            " flatten (Flatten)           (None, 4608)              0         \n",
            "                                                                 \n",
            " dense (Dense)               (None, 4096)              18878464  \n",
            "                                                                 \n",
            "=================================================================\n",
            "Total params: 23,669,376\n",
            "Trainable params: 23,669,376\n",
            "Non-trainable params: 0\n",
            "_________________________________________________________________\n"
          ]
        }
      ],
      "source": [
        "model = get_siamese_model((84, 84, 3))\n",
        "model.summary()\n",
        "model.layers[2].summary()"
      ]
    },
    {
      "cell_type": "code",
      "execution_count": null,
      "metadata": {
        "id": "VJvckG9o4n42"
      },
      "outputs": [],
      "source": [
        "def fn_loss(margin=1):\n",
        "    \"\"\"Provides 'constrastive_loss' an enclosing scope with variable 'margin'.\n",
        "\n",
        "  Arguments:\n",
        "      margin: Integer, defines the baseline for distance for which pairs\n",
        "              should be classified as dissimilar. - (default is 1).\n",
        "\n",
        "  Returns:\n",
        "      'constrastive_loss' function with data ('margin') attached.\n",
        "  \"\"\"\n",
        "\n",
        "    # Contrastive loss = mean( (1-true_value) * square(prediction) +\n",
        "    #                         true_value * square( max(margin-prediction, 0) ))\n",
        "    def contrastive_loss(y, preds):\n",
        "      # explicitly cast the true class label data type to the predicted\n",
        "      # class label data type (otherwise we run the risk of having two\n",
        "      # separate data types, causing TensorFlow to error out)\n",
        "      y = tf.cast(y, preds.dtype)\n",
        "      # calculate the contrastive loss between the true labels and\n",
        "      # the predicted labels\n",
        "      squaredPreds = K.square(preds)\n",
        "      squaredMargin = K.square(K.maximum(margin - preds, 0))\n",
        "      loss = K.mean(y * squaredPreds + (1 - y) * squaredMargin)\n",
        "      # return the computed contrastive loss to the calling function\n",
        "      return loss\n",
        "\n",
        "    return contrastive_loss"
      ]
    },
    {
      "cell_type": "code",
      "execution_count": null,
      "metadata": {
        "id": "eLApDK326Kdr"
      },
      "outputs": [],
      "source": [
        "# Hyper params\n",
        "lr = 0.0001\n",
        "margin = 1"
      ]
    },
    {
      "cell_type": "code",
      "execution_count": null,
      "metadata": {
        "id": "kvG0JWBEavhN"
      },
      "outputs": [],
      "source": [
        "optimizer = Adam(learning_rate = lr)\n",
        "model.compile(loss=fn_loss(margin=margin),optimizer=optimizer)"
      ]
    },
    {
      "cell_type": "markdown",
      "metadata": {
        "id": "9XU5W5GYavhN"
      },
      "source": [
        "### Loading the train tensors"
      ]
    },
    {
      "cell_type": "code",
      "execution_count": null,
      "metadata": {
        "id": "0f9wiSOMavhO"
      },
      "outputs": [],
      "source": [
        "# Hyper parameters\n",
        "evaluate_every = 1000  # interval for evaluating on one-shot tasks\\\n",
        "# download_every = 1000\n",
        "batch_size = 64\n",
        "n_iter = 10000 # No. of training iterations\n",
        "\n",
        "# used for one batching testing\n",
        "N_way = 10 # how many classes for testing one-shot tasks. has to be less than num classes in dataset\n",
        "n_val = 250 # how many one-shot tasks to validate on\n",
        "\n",
        "# used for straight validation testing\n",
        "val_batch_size = 64\n",
        "\n",
        "val_test_size = 8000\n",
        "\n",
        "best = -1\n",
        "\n",
        "steps_per_epoch = 1000\n",
        "epochs = 10"
      ]
    },
    {
      "cell_type": "code",
      "execution_count": null,
      "metadata": {
        "id": "Q41Lld0a6rmk"
      },
      "outputs": [],
      "source": [
        "check_loss = fn_loss(margin=1)"
      ]
    },
    {
      "cell_type": "code",
      "execution_count": null,
      "metadata": {
        "id": "W-nqKS3IavhO"
      },
      "outputs": [],
      "source": [
        "model_path = './weights/'\n",
        "model_name = \"contrastive_loss_2\""
      ]
    },
    {
      "cell_type": "code",
      "execution_count": null,
      "metadata": {
        "id": "LF9fV2jia14x"
      },
      "outputs": [],
      "source": [
        "def data_generator(data, batch_size):\n",
        "    while True:\n",
        "        (inputs,targets) = get_pairwise_batch(batch_size, train_data)\n",
        "        yield inputs, targets"
      ]
    },
    {
      "cell_type": "code",
      "execution_count": null,
      "metadata": {
        "colab": {
          "base_uri": "https://localhost:8080/"
        },
        "id": "h9f2vDKObA3B",
        "outputId": "7da6e257-b75a-4ddc-e01e-7937a0efa26b"
      },
      "outputs": [
        {
          "name": "stdout",
          "output_type": "stream",
          "text": [
            "Epoch 1/10\n",
            "1000/1000 [==============================] - 449s 431ms/step - loss: 0.5141 - val_loss: 0.3052\n",
            "Epoch 2/10\n",
            "1000/1000 [==============================] - 430s 430ms/step - loss: 0.2960 - val_loss: 0.2810\n",
            "Epoch 3/10\n",
            "1000/1000 [==============================] - 429s 429ms/step - loss: 0.2759 - val_loss: 0.2536\n",
            "Epoch 4/10\n",
            "1000/1000 [==============================] - 429s 429ms/step - loss: 0.2589 - val_loss: 0.2596\n",
            "Epoch 5/10\n",
            "1000/1000 [==============================] - 428s 428ms/step - loss: 0.2523 - val_loss: 0.2538\n",
            "Epoch 6/10\n",
            "1000/1000 [==============================] - 428s 428ms/step - loss: 0.2469 - val_loss: 0.2441\n",
            "Epoch 7/10\n",
            "1000/1000 [==============================] - 426s 426ms/step - loss: 0.2402 - val_loss: 0.2403\n",
            "Epoch 8/10\n",
            "1000/1000 [==============================] - 427s 427ms/step - loss: 0.2384 - val_loss: 0.2288\n",
            "Epoch 9/10\n",
            "1000/1000 [==============================] - 426s 426ms/step - loss: 0.2350 - val_loss: 0.2306\n",
            "Epoch 10/10\n",
            "1000/1000 [==============================] - 426s 426ms/step - loss: 0.2340 - val_loss: 0.2369\n"
          ]
        }
      ],
      "source": [
        "history = model.fit(\n",
        "    data_generator(train_data, batch_size),\n",
        "    steps_per_epoch=steps_per_epoch,\n",
        "    validation_data = data_generator(val_data, val_batch_size),\n",
        "    validation_steps = 10,\n",
        "    epochs=epochs, verbose=True)"
      ]
    },
    {
      "cell_type": "code",
      "execution_count": null,
      "metadata": {
        "id": "xKCpvs0kQ0If"
      },
      "outputs": [],
      "source": [
        "model.save_weights(os.path.join(model_path, 'weights_{}.h5'.format(model_name)))"
      ]
    }
  ],
  "metadata": {
    "accelerator": "GPU",
    "colab": {
      "collapsed_sections": [
        "w2BnMpT8avhP",
        "YQdoXnJFavhQ",
        "68T5BFqlavhQ",
        "nqgWAdtJavhR",
        "iHLf-EjRavhR"
      ],
      "name": "siamese_network_contrastive_loss.ipynb",
      "provenance": []
    },
    "kernelspec": {
      "display_name": "Python 3",
      "language": "python",
      "name": "python3"
    },
    "language_info": {
      "codemirror_mode": {
        "name": "ipython",
        "version": 3
      },
      "file_extension": ".py",
      "mimetype": "text/x-python",
      "name": "python",
      "nbconvert_exporter": "python",
      "pygments_lexer": "ipython3",
      "version": "3.7.11"
    }
  },
  "nbformat": 4,
  "nbformat_minor": 0
}

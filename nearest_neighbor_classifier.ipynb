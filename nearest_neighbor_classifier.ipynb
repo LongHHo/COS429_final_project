{
 "cells": [
  {
   "cell_type": "code",
   "execution_count": 118,
   "metadata": {},
   "outputs": [],
   "source": [
    "import pickle\n",
    "import numpy as np\n",
    "\n",
    "from sift_extract import extract_sift_for_dataset\n",
    "from cluster import cluster_means, assign_image, assign_featurevect"
   ]
  },
  {
   "cell_type": "code",
   "execution_count": 8,
   "metadata": {},
   "outputs": [
    {
     "name": "stdout",
     "output_type": "stream",
     "text": [
      "The autoreload extension is already loaded. To reload it, use:\n",
      "  %reload_ext autoreload\n"
     ]
    }
   ],
   "source": [
    "%load_ext autoreload\n",
    "%autoreload 2"
   ]
  },
  {
   "cell_type": "code",
   "execution_count": 27,
   "metadata": {},
   "outputs": [
    {
     "name": "stdout",
     "output_type": "stream",
     "text": [
      "dict_keys(['image_data', 'class_dict'])\n"
     ]
    }
   ],
   "source": [
    "test_in = open(\"mini-imagenet-cache-test.pkl\", \"rb\")\n",
    "\n",
    "test = pickle.load(test_in)\n",
    "\n",
    "\n",
    "\n",
    "print(test.keys())\n",
    "\n",
    "# print(test['class_dict'].keys())\n",
    "# print(test['class_dict'])\n",
    "Xtest = test[\"image_data\"]\n",
    "\n",
    "Xtest = Xtest.reshape([20, 600, 84, 84, 3])\n",
    "\n",
    "\n",
    "\n",
    "Xtest_features = extract_sift_for_dataset(Xtest, step_size=2)\n"
   ]
  },
  {
   "cell_type": "code",
   "execution_count": 112,
   "metadata": {},
   "outputs": [
    {
     "data": {
      "text/plain": [
       "(20, 600, 1764, 128)"
      ]
     },
     "execution_count": 112,
     "metadata": {},
     "output_type": "execute_result"
    }
   ],
   "source": [
    "Xtest_features.shape"
   ]
  },
  {
   "cell_type": "code",
   "execution_count": 67,
   "metadata": {
    "scrolled": false
   },
   "outputs": [
    {
     "name": "stdout",
     "output_type": "stream",
     "text": [
      "(20, 600, 1764, 128)\n"
     ]
    }
   ],
   "source": [
    "Xtest_features = np.array(Xtest_features)\n",
    "print(Xtest_features.shape)\n"
   ]
  },
  {
   "cell_type": "code",
   "execution_count": 15,
   "metadata": {},
   "outputs": [
    {
     "data": {
      "text/plain": [
       "(20, 600, 225792)"
      ]
     },
     "execution_count": 15,
     "metadata": {},
     "output_type": "execute_result"
    }
   ],
   "source": [
    "Xtest_features = Xtest_features.reshape(Xtest_features.shape[0], Xtest_features.shape[1], -1)\n",
    "Xtest_features.shape"
   ]
  },
  {
   "cell_type": "code",
   "execution_count": 22,
   "metadata": {},
   "outputs": [],
   "source": [
    "cluster_averages = cluster_means(Xtest_features)"
   ]
  },
  {
   "cell_type": "code",
   "execution_count": 66,
   "metadata": {},
   "outputs": [
    {
     "data": {
      "text/plain": [
       "(20, 225792)"
      ]
     },
     "execution_count": 66,
     "metadata": {},
     "output_type": "execute_result"
    }
   ],
   "source": [
    "cluster_averages.shape"
   ]
  },
  {
   "cell_type": "code",
   "execution_count": 119,
   "metadata": {},
   "outputs": [],
   "source": [
    "test_num = 3000\n",
    "num_true = 0\n",
    "\n",
    "# flatten test datapoints so image feature vector is flattened to 1-d and the images are all grouped in a 1-d vector instead\n",
    "# of by class\n",
    "flattened_testfeatures = Xtest_features.reshape(-1, Xtest_features.shape[-2]*Xtest_features.shape[-1])\n",
    "\n",
    "test_sample_inds = np.random.choice(Xtest_features.shape[0]*Xtest_features.shape[1], size=test_num, replace=False)\n",
    "\n",
    "for idx in test_sample_inds:\n",
    "    true_class = idx // 600    \n",
    "    test_sample = flattened_testfeatures[idx]\n",
    "    \n",
    "    predicted_class = assign_featurevect(test_sample, cluster_averages)\n",
    "    \n",
    "    if (true_class == predicted_class):\n",
    "        num_true += 1\n",
    "        "
   ]
  },
  {
   "cell_type": "code",
   "execution_count": 120,
   "metadata": {},
   "outputs": [
    {
     "data": {
      "text/plain": [
       "0.2906666666666667"
      ]
     },
     "execution_count": 120,
     "metadata": {},
     "output_type": "execute_result"
    }
   ],
   "source": [
    "num_true / test_num"
   ]
  }
 ],
 "metadata": {
  "kernelspec": {
   "display_name": "Python 3",
   "language": "python",
   "name": "python3"
  },
  "language_info": {
   "codemirror_mode": {
    "name": "ipython",
    "version": 3
   },
   "file_extension": ".py",
   "mimetype": "text/x-python",
   "name": "python",
   "nbconvert_exporter": "python",
   "pygments_lexer": "ipython3",
   "version": "3.7.11"
  }
 },
 "nbformat": 4,
 "nbformat_minor": 4
}
